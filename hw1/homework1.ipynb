{
 "cells": [
  {
   "cell_type": "markdown",
   "metadata": {
    "id": "zTvIwDlYvBzC"
   },
   "source": [
    "# HW1: LeNet-5 with Post-training Quantization\n",
    "[LeNet](http://yann.lecun.com/exdb/publis/pdf/lecun-01a.pdf) is considered to be the first ConvNet.\n",
    "We are going to implement a neural architecture similar to LeNet and train it with [MNIST](https://en.wikipedia.org/wiki/MNIST_database) dataset.\n",
    "\n",
    "Before we start, you may check this [Tensorspace-LeNet](https://tensorspace.org/html/playground/lenet.html) to play with LeNet and get familiar with this neural architecture.\n",
    "\n",
    "![image](https://production-media.paperswithcode.com/methods/LeNet_Original_Image_48T74Lc.jpg)\n",
    "Ref.: LeCun et al., Gradient-Based Learning Applied to Document Recognition, 1998a"
   ]
  },
  {
   "cell_type": "markdown",
   "metadata": {},
   "source": [
    "<font color='red'>Name: 陳力豪 Student ID: 107061272</font>"
   ]
  },
  {
   "cell_type": "markdown",
   "metadata": {},
   "source": [
    "## 1. Initial Setup\n",
    "\n",
    "We are going to implement and train this neural network with PyTorch. \n",
    "If you are not familiar with PyTorch, check the [official tutorail](https://pytorch.org/tutorials/beginner/basics/intro.html)"
   ]
  },
  {
   "cell_type": "code",
   "execution_count": 1,
   "metadata": {
    "id": "hbiiMcdNJI--"
   },
   "outputs": [
    {
     "name": "stdout",
     "output_type": "stream",
     "text": [
      "cpu\n"
     ]
    }
   ],
   "source": [
    "import torch\n",
    "import torchvision\n",
    "import torchvision.transforms as transforms\n",
    "import torch.nn as nn\n",
    "import torch.nn.functional as F\n",
    "import torch.optim as optim\n",
    "from torch.utils.data import DataLoader\n",
    "import numpy as np\n",
    "\n",
    "device = torch.device(\"cuda:0\" if torch.cuda.is_available() else \"cpu\")\n",
    "print(device)"
   ]
  },
  {
   "cell_type": "markdown",
   "metadata": {
    "id": "nCaMDWYArEXO"
   },
   "source": [
    "### 1.1 Loading dataset\n",
    "Load training and test data from the MNIST dataset."
   ]
  },
  {
   "cell_type": "code",
   "execution_count": 2,
   "metadata": {
    "colab": {
     "base_uri": "https://localhost:8080/",
     "height": 118,
     "referenced_widgets": [
      "95a8407c96844c38a515a7fba99d487a",
      "31f1e93651c8492186e50beffb49c8c7",
      "e908845cf90a4f07a74b5ebdbcfb541e",
      "47b111ac5ec8457b912cec20ef96742e",
      "0aeb04f9938842e8bca8ebdada4373c8",
      "f404c64766294bcabb07a4c257864057",
      "bdafb2a00db34c1f83bdd08632cad61a",
      "af46cef6b773427595ac29fbf42e756d"
     ]
    },
    "executionInfo": {
     "elapsed": 11912,
     "status": "ok",
     "timestamp": 1616220742269,
     "user": {
      "displayName": "嚴中璟",
      "photoUrl": "",
      "userId": "01376426090096552571"
     },
     "user_tz": -480
    },
    "id": "_5UuOjjrnogR",
    "outputId": "89cfee73-1250-474c-cfb0-f90f2ae3a25d"
   },
   "outputs": [],
   "source": [
    "transform = transforms.Compose(\n",
    "    [\n",
    "     transforms.Resize((32, 32)),\n",
    "     transforms.ToTensor(),\n",
    "     transforms.Normalize((0.5,), (0.5,))\n",
    "    ])\n",
    "\n",
    "trainset = torchvision.datasets.MNIST(root='./data', train=True,\n",
    "                                        download=True, transform=transform)\n",
    "trainloader = torch.utils.data.DataLoader(trainset, batch_size=4,\n",
    "                                          shuffle=True, num_workers=2)\n",
    "\n",
    "testset = torchvision.datasets.MNIST(root='./data', train=False,\n",
    "                                       download=True, transform=transform)\n",
    "testloader = torch.utils.data.DataLoader(testset, batch_size=8,\n",
    "                                         shuffle=False, num_workers=2)"
   ]
  },
  {
   "cell_type": "markdown",
   "metadata": {
    "id": "l62CkyIwtSOv"
   },
   "source": [
    "### 1.2 Defining the Neural Network \n",
    "Define a simple CNN that classifies MNIST images."
   ]
  },
  {
   "cell_type": "code",
   "execution_count": 3,
   "metadata": {
    "id": "9fL3F-7Rntog"
   },
   "outputs": [],
   "source": [
    "from nnutils import LeNet\n",
    "net = LeNet().to(device)"
   ]
  },
  {
   "cell_type": "markdown",
   "metadata": {},
   "source": [
    "### 1.3 Question: Profiling the Neural Architecture by TorchInfo\n",
    "Torchinfo provides information complementary to what is provided by print(your_model) in PyTorch, similar to Tensorflow's `model.summary()` API to view the visualization of the model, which is helpful while debugging your network. Check this [link](https://github.com/TylerYep/torchinfo#how-to-use) about how to use TorchInfo by `summary()` and fill in the TODO in the following cell. You should get the result similar to the table below:\n",
    "\n",
    "```\n",
    "==========================================================================================\n",
    "Layer (type:depth-idx)                   Output Shape              Param #\n",
    "==========================================================================================\n",
    "LeNet                                    --                        --\n",
    "...\n",
    "...\n",
    "==========================================================================================\n",
    "Total params: ...\n",
    "...\n",
    "Estimated Total Size (MB): ...\n",
    "==========================================================================================\n",
    "```\n",
    "\n",
    "Ref.: https://github.com/TylerYep/torchinfo\n",
    "\n",
    "Please read *B. LeNet-5* in the [original paper](http://yann.lecun.com/exdb/publis/pdf/lecun-01a.pdf) and answer the following questions in the report.\n",
    "1. What is the type (convolution, pooling, fully-connected layer, etc.), input activation size, output activation size, and activation function (if any) of each layer?\n",
    "2. What is the difference between this neural architecture and the LeNet-5 in the [original paper](http://yann.lecun.com/exdb/publis/pdf/lecun-01a.pdf)?\n",
    "3. Could we replace the 3rd conv, the conv in c5, with a fully connected layer?"
   ]
  },
  {
   "cell_type": "markdown",
   "metadata": {},
   "source": [
    "### 1.3 Answers\n",
    "<font color='red'>Write your answers here.</font>\n",
    "1. <br />\n",
    "\n",
    "C1：<br />\n",
    "Type: convolution, <br />\n",
    "Input activation size (channel, width, height) = (1, 32, 32)  <br />\n",
    "Output activation size (channel, width, height) = (6, 28, 28)  <br />\n",
    "Activation function = ReLU <br />\n",
    "\n",
    "S2：<br />\n",
    "Type: Subsampling, <br />\n",
    "Input activation size (channel, width, height) = (6, 28, 28)  <br />\n",
    "Output activation size (channel, width, height) = (6, 14, 14)  <br />\n",
    "Activation function = sigmoid <br />\n",
    "\n",
    "C3：<br />\n",
    "Type: convolution, <br />\n",
    "Input activation size (channel, width, height) = (6, 14, 14)  <br />\n",
    "Output activation size (channel, width, height) = (16, 10, 10)  <br />\n",
    "Activation function = sigmoid <br />\n",
    "\n",
    "S4：<br />\n",
    "Type: Subsampling, <br />\n",
    "Input activation size (channel, width, height) = (16, 10, 10)  <br />\n",
    "Output activation size (channel, width, height) = (16, 5, 5)  <br />\n",
    "Activation function = sigmoid <br />\n",
    "\n",
    "C5：<br />\n",
    "Type: convolution, <br />\n",
    "Input activation size (channel, width, height) = (16, 5, 5)  <br />\n",
    "Output activation size (channel, width, height) = (120, 1, 1)  <br />\n",
    "Activation function = ReLu <br />\n",
    "\n",
    "F6：<br />\n",
    "Type: fully-connected, <br />\n",
    "Input activation size (channel, width, height)) = (120, 1, 1)  <br />\n",
    "Output activation size (output) = (84)  <br />\n",
    "Activation function = hyperbolic tangent <br />\n",
    "\n",
    "Output：<br />\n",
    "Type: Guassuan Connection, <br />\n",
    "Input activation size (output) = (84)  <br />\n",
    "Output activation size (output) = (10)  <br />\n",
    "Activation function = RBF <br />\n",
    "\n",
    "\n",
    "2. <br />\n",
    "此次作業的架構把LeNet-5中的Subsampling layers換成Maxpooling layers，並且作業中的activation function均換成ReLus function。\n",
    "\n",
    "    \n",
    "    \n",
    "3. <br />\n",
    "不行。因為如果LeNet-5的input size變大，而其他都保持不變的話，最後feature map的尺寸會比1*1還要大。"
   ]
  },
  {
   "cell_type": "code",
   "execution_count": 4,
   "metadata": {},
   "outputs": [
    {
     "data": {
      "text/plain": [
       "==========================================================================================\n",
       "Layer (type:depth-idx)                   Output Shape              Param #\n",
       "==========================================================================================\n",
       "LeNet                                    --                        --\n",
       "├─Sequential: 1-1                        [4, 6, 28, 28]            --\n",
       "│    └─Conv2d: 2-1                       [4, 6, 28, 28]            150\n",
       "│    └─ReLU: 2-2                         [4, 6, 28, 28]            --\n",
       "├─Sequential: 1-2                        [4, 6, 14, 14]            --\n",
       "│    └─MaxPool2d: 2-3                    [4, 6, 14, 14]            --\n",
       "├─Sequential: 1-3                        [4, 16, 10, 10]           --\n",
       "│    └─Conv2d: 2-4                       [4, 16, 10, 10]           2,400\n",
       "│    └─ReLU: 2-5                         [4, 16, 10, 10]           --\n",
       "├─Sequential: 1-4                        [4, 16, 5, 5]             --\n",
       "│    └─MaxPool2d: 2-6                    [4, 16, 5, 5]             --\n",
       "├─Sequential: 1-5                        [4, 120, 1, 1]            --\n",
       "│    └─Conv2d: 2-7                       [4, 120, 1, 1]            48,000\n",
       "│    └─ReLU: 2-8                         [4, 120, 1, 1]            --\n",
       "├─Sequential: 1-6                        [4, 84]                   --\n",
       "│    └─Linear: 2-9                       [4, 84]                   10,080\n",
       "│    └─ReLU: 2-10                        [4, 84]                   --\n",
       "├─Sequential: 1-7                        [4, 10]                   --\n",
       "│    └─Linear: 2-11                      [4, 10]                   840\n",
       "==========================================================================================\n",
       "Total params: 61,470\n",
       "Trainable params: 61,470\n",
       "Non-trainable params: 0\n",
       "Total mult-adds (M): 1.67\n",
       "==========================================================================================\n",
       "Input size (MB): 0.02\n",
       "Forward/backward pass size (MB): 0.21\n",
       "Params size (MB): 0.25\n",
       "Estimated Total Size (MB): 0.47\n",
       "=========================================================================================="
      ]
     },
     "execution_count": 4,
     "metadata": {},
     "output_type": "execute_result"
    }
   ],
   "source": [
    "from torchinfo import summary\n",
    "summary(net, input_size=(4,1,32,32), verbose=0)\n",
    "# TODO"
   ]
  },
  {
   "cell_type": "markdown",
   "metadata": {
    "id": "Nijieuxptag6"
   },
   "source": [
    "### 1.4 Training and Testing the Neural Network\n",
    "Train this CNN on the training dataset (this may take a few moments).\n",
    "* Check how to save and load the model\n",
    "    * https://pytorch.org/tutorials/beginner/saving_loading_models.html\n",
    "    * Save:\n",
    "        ```\n",
    "        torch.save(model.state_dict(), PATH)\n",
    "        ```\n",
    "    * Load:\n",
    "        ```\n",
    "        model = TheModelClass(*args, **kwargs)\n",
    "        model.load_state_dict(torch.load(PATH))\n",
    "        model.eval()\n",
    "        ```\n",
    "* After training the model, we will save it as `lenet.pt`.\n",
    "* You should comment out `train(net, trainloader, device)` and uncomment `net.load_state_dict(torch.load('lenet.pt'))` before submitting your homework.\n",
    "    * Also, reloading the model from `lenet.pt` can save your time if there is something wrong and you need to restart and run all."
   ]
  },
  {
   "cell_type": "markdown",
   "metadata": {},
   "source": [
    "If you get `ModuleNotFoundError: No module named 'nnutils'` when running the following cell, you should check if the `nnutils` folder exists. `nnutils` and `homework1.ipynb` should be placed in the same directory."
   ]
  },
  {
   "cell_type": "code",
   "execution_count": 5,
   "metadata": {
    "id": "CzK6ohj5oNCT"
   },
   "outputs": [
    {
     "name": "stdout",
     "output_type": "stream",
     "text": [
      "Accuracy of the network on the test images: 98.48%\n"
     ]
    }
   ],
   "source": [
    "from nnutils import train, test\n",
    "\n",
    "#train(net, trainloader, device)\n",
    "net.load_state_dict(torch.load('lenet.pt'))\n",
    "score = test(net, testloader, None, device)\n",
    "\n",
    "print('Accuracy of the network on the test images: {}%'.format(score))\n",
    "torch.save(net.state_dict(), 'lenet.pt')"
   ]
  },
  {
   "cell_type": "markdown",
   "metadata": {
    "id": "SQZoEjBSveV8"
   },
   "source": [
    "## 2. Post-training Quantization\n",
    "### 2.1 Question: Visualizing Weights"
   ]
  },
  {
   "cell_type": "markdown",
   "metadata": {
    "id": "5qKRX7ply7I2"
   },
   "source": [
    "We have flattened all vectors for you by `tensor.view(-1)`.\n",
    "\n",
    "Plot a histogram of each weight and show the total range and 3-sigma range for each weight. Fill in the TODO in the following cell.\n",
    "\n",
    "hint: `np.histogram()` and `plt.hist()`"
   ]
  },
  {
   "cell_type": "code",
   "execution_count": 6,
   "metadata": {
    "colab": {
     "base_uri": "https://localhost:8080/",
     "height": 1000
    },
    "executionInfo": {
     "elapsed": 110161,
     "status": "ok",
     "timestamp": 1616220840551,
     "user": {
      "displayName": "嚴中璟",
      "photoUrl": "",
      "userId": "01376426090096552571"
     },
     "user_tz": -480
    },
    "id": "N2h7zJ8m3GAF",
    "outputId": "3508f15f-618f-43c6-8484-6bfca548dc2a"
   },
   "outputs": [
    {
     "data": {
      "image/png": "[encoded data removed]",
      "text/plain": [
       "<Figure size 432x288 with 1 Axes>"
      ]
     },
     "metadata": {
      "needs_background": "light"
     },
     "output_type": "display_data"
    },
    {
     "name": "stdout",
     "output_type": "stream",
     "text": [
      "For conv1 layer, the total range [Min , Max] = [-0.4029906988143921 , 0.39087480306625366]\n",
      "For conv1 layer, the 3-sigma range = [-0.44051605463027954 , 0.4588123559951782]\n"
     ]
    },
    {
     "data": {
      "image/png": "[encoded data removed]",
      "text/plain": [
       "<Figure size 432x288 with 1 Axes>"
      ]
     },
     "metadata": {
      "needs_background": "light"
     },
     "output_type": "display_data"
    },
    {
     "name": "stdout",
     "output_type": "stream",
     "text": [
      "For conv2 layer, the total range [Min , Max] = [-0.6737098097801208 , 0.4603506922721863]\n",
      "For conv2 layer, the 3-sigma range = [-0.5434123873710632 , 0.4522389769554138]\n"
     ]
    },
    {
     "data": {
      "image/png": "[encoded data removed]",
      "text/plain": [
       "<Figure size 432x288 with 1 Axes>"
      ]
     },
     "metadata": {
      "needs_background": "light"
     },
     "output_type": "display_data"
    },
    {
     "name": "stdout",
     "output_type": "stream",
     "text": [
      "For conv3 layer, the total range [Min , Max] = [-0.7624775171279907 , 0.5675882697105408]\n",
      "For conv3 layer, the 3-sigma range  = [-0.4228246808052063 , 0.38866716623306274]\n"
     ]
    },
    {
     "data": {
      "image/png": "[encoded data removed]",
      "text/plain": [
       "<Figure size 432x288 with 1 Axes>"
      ]
     },
     "metadata": {
      "needs_background": "light"
     },
     "output_type": "display_data"
    },
    {
     "name": "stdout",
     "output_type": "stream",
     "text": [
      "For fc1 layer, the total range [Min , Max] = [-0.5474773049354553 , 0.5072317123413086]\n",
      "For fc1 layer, the 3-sigma range  = [-0.4032284617424011 , 0.385051429271698]\n"
     ]
    },
    {
     "data": {
      "image/png": "[encoded data removed]",
      "text/plain": [
       "<Figure size 432x288 with 1 Axes>"
      ]
     },
     "metadata": {
      "needs_background": "light"
     },
     "output_type": "display_data"
    },
    {
     "name": "stdout",
     "output_type": "stream",
     "text": [
      "For fc2 layer, the total range [Min , Max] = [-1.0900074243545532 , 0.21261565387248993]\n",
      "For fc2 layer, the 3-sigma range  = [-0.7065575122833252 , 0.4234582483768463]\n"
     ]
    }
   ],
   "source": [
    "import matplotlib.pyplot as plt\n",
    "\n",
    "conv1_weights = net.c1[0].weight.data.cpu().view(-1)\n",
    "conv2_weights = net.c3[0].weight.data.cpu().view(-1)\n",
    "conv3_weights = net.c5[0].weight.data.cpu().view(-1)\n",
    "fc1_weights = net.f6[0].weight.data.cpu().view(-1)\n",
    "fc2_weights = net.output[0].weight.data.cpu().view(-1)\n",
    "\n",
    "# TODO\n",
    "##### bin代表區間 hist代表每個區間內的數（在柱狀圖上的值）\n",
    "\n",
    "#############################################\n",
    "hist_c1, bins_c1 = np.histogram(conv1_weights, bins=40)\n",
    "plt.hist(bins_c1[:-1], bins_c1, weights=hist_c1)\n",
    "plt.xlabel(\"weight range\")\n",
    "plt.ylabel(\"numbers of weight\")\n",
    "plt.title(\"Histogram_conv1_weights with bins = 40\") \n",
    "plt.show()\n",
    "\n",
    "c1_weight_min = min(conv1_weights)\n",
    "c1_weight_max = max(conv1_weights)\n",
    "print(\"For conv1 layer, the total range [Min , Max] = [{} , {}]\".format(c1_weight_min, c1_weight_max))\n",
    "\n",
    "c1_weight_avg = torch.mean(conv1_weights)\n",
    "c1_weight_std = torch.std(conv1_weights)\n",
    "print(\"For conv1 layer, the 3-sigma range = [{} , {}]\"\n",
    "        .format(c1_weight_avg-3*c1_weight_std, c1_weight_avg+3*c1_weight_std))\n",
    "#############################################\n",
    "hist_c2, bins_c2 = np.histogram(conv2_weights, bins=300)\n",
    "plt.hist(bins_c2[:-1], bins_c2, weights=hist_c2)\n",
    "plt.xlabel(\"weight range\")\n",
    "plt.ylabel(\"numbers of weight\")\n",
    "plt.title(\"Histogram_conv2_weights with bins = 300\") \n",
    "plt.show()\n",
    "\n",
    "c2_weight_min = min(conv2_weights)\n",
    "c2_weight_max = max(conv2_weights)\n",
    "print(\"For conv2 layer, the total range [Min , Max] = [{} , {}]\".format(c2_weight_min, c2_weight_max))\n",
    "\n",
    "c2_weight_avg = torch.mean(conv2_weights)\n",
    "c2_weight_std = torch.std(conv2_weights)\n",
    "print(\"For conv2 layer, the 3-sigma range = [{} , {}]\"\n",
    "        .format(c2_weight_avg-3*c2_weight_std, c2_weight_avg+3*c2_weight_std))\n",
    "#############################################\n",
    "hist_c3, bins_c3 = np.histogram(conv3_weights, bins=300)\n",
    "plt.hist(bins_c3[:-1], bins_c3, weights=hist_c3)\n",
    "plt.xlabel(\"weight range\")\n",
    "plt.ylabel(\"numbers of weight\")\n",
    "plt.title(\"Histogram_conv3_weights with bins = 300\") \n",
    "plt.show()\n",
    "\n",
    "c3_weight_min = min(conv3_weights)\n",
    "c3_weight_max = max(conv3_weights)\n",
    "print(\"For conv3 layer, the total range [Min , Max] = [{} , {}]\".format(c3_weight_min, c3_weight_max))\n",
    "\n",
    "c3_weight_avg = torch.mean(conv3_weights)\n",
    "c3_weight_std = torch.std(conv3_weights)\n",
    "print(\"For conv3 layer, the 3-sigma range  = [{} , {}]\"\n",
    "        .format(c3_weight_avg-3*c3_weight_std, c3_weight_avg+3*c3_weight_std))\n",
    "#############################################\n",
    "hist_fc1, bins_fc1 = np.histogram(fc1_weights, bins=300)\n",
    "plt.hist(bins_fc1[:-1], bins_fc1, weights=hist_fc1)\n",
    "plt.xlabel(\"weight range\")\n",
    "plt.ylabel(\"numbers of weight\")\n",
    "plt.title(\"Histogram_fc1_weights with bins = 300\") \n",
    "plt.show()\n",
    "\n",
    "fc1_weight_min = min(fc1_weights)\n",
    "fc1_weight_max = max(fc1_weights)\n",
    "print(\"For fc1 layer, the total range [Min , Max] = [{} , {}]\".format(fc1_weight_min, fc1_weight_max))\n",
    "\n",
    "fc1_weight_avg = torch.mean(fc1_weights)\n",
    "fc1_weight_std = torch.std(fc1_weights)\n",
    "print(\"For fc1 layer, the 3-sigma range  = [{} , {}]\"\n",
    "        .format(fc1_weight_avg-3*fc1_weight_std, fc1_weight_avg+3*fc1_weight_std))\n",
    "#############################################\n",
    "hist_fc2, bins_fc2 = np.histogram(fc1_weights, bins=300)\n",
    "plt.hist(bins_fc2[:-1], bins_fc2, weights=hist_fc2)\n",
    "plt.xlabel(\"weight range\")\n",
    "plt.ylabel(\"numbers of weight\")\n",
    "plt.title(\"Histogram_fc2_weights with bins = 300\") \n",
    "plt.show()\n",
    "\n",
    "fc2_weight_min = min(fc2_weights)\n",
    "fc2_weight_max = max(fc2_weights)\n",
    "print(\"For fc2 layer, the total range [Min , Max] = [{} , {}]\".format(fc2_weight_min, fc2_weight_max))\n",
    "\n",
    "fc2_weight_avg = torch.mean(fc2_weights)\n",
    "fc2_weight_std = torch.std(fc2_weights)\n",
    "print(\"For fc2 layer, the 3-sigma range  = [{} , {}]\".format(fc2_weight_avg-3*fc2_weight_std, fc2_weight_avg+3*fc2_weight_std))"
   ]
  },
  {
   "cell_type": "markdown",
   "metadata": {
    "id": "2hKjshaHD11m"
   },
   "source": [
    "### 2.2 Question:  Quantizing Weights\n",
    "Computation of convolution or fully-connected layer can be expressed as\n",
    "$$W\\times I = O$$\n",
    "where $W$ is the weight tensor, $I$ is the input tensor, and $O$ is the output tensor.\n",
    "Let $n_w$ be the scaling factor. We have $$W_q\\times I =n_w W \\times I\\approx n_w O$$ where $W_q$ is the quantized 8-bit signed integer weight tensor.\n",
    "\n",
    "Fill in the TODO in `quantized_weights()` of `quantize_layer_weights()`.If you’ve done everything correctly, the accuracy degradation should be negligible.\n",
    "1. What is $n_w$? Explain how you get it.\n",
    "2. What is the accuracy degradation? \\\n",
    "Show both relative error and absolute error when the true value is the accuracy we get before performing any quantization."
   ]
  },
  {
   "cell_type": "markdown",
   "metadata": {},
   "source": [
    "### 2.2 Answers\n",
    "<font color='red'>Write your answers here.</font>  <br />\n",
    "1. <br />\n",
    "$n_w$ 是要使用來 Quantize $W$ 的 $scale$ $factor$。<br />\n",
    "\n",
    "&emsp;&emsp; 取得方法：\n",
    "\n",
    "&emsp;&emsp; 由於要實作symmetric quantization，首先找出$|Weight|_{max}$，接著根據要quantization的bits數選擇參數$B$，<br />\n",
    "\n",
    "&emsp;&emsp; 最後依照 $n_w = \\frac {2^B-1} {2|Weight|_{max}}$ 求得此結果。\n",
    "\n",
    "\n",
    "2. \n",
    "$$ Ture \\quad value = 98.48\\% \\quad Experiment \\quad value = 98.48\\%$$ <br />\n",
    "$$ Relative\\_error = | \\frac {98.48\\%-98.48\\%} {98.48\\%} | * 100\\%  = 0\\%$$ <br />\n",
    "$$ Absolute\\_error = | 98.48\\%-98.48\\% | = 0\\% $$ <br />"
   ]
  },
  {
   "cell_type": "code",
   "execution_count": 7,
   "metadata": {},
   "outputs": [
    {
     "name": "stdout",
     "output_type": "stream",
     "text": [
      "Accuracy of the network on the test images: 98.48%\n"
     ]
    }
   ],
   "source": [
    "score = test(net, testloader, None, device)\n",
    "print('Accuracy of the network on the test images: {}%'.format(score))"
   ]
  },
  {
   "cell_type": "code",
   "execution_count": 8,
   "metadata": {
    "id": "qXNk1fXuPGjB"
   },
   "outputs": [
    {
     "name": "stdout",
     "output_type": "stream",
     "text": [
      "Accuracy of the network after quantizing all weights: 98.48%\n"
     ]
    }
   ],
   "source": [
    "from nnutils import copy_model, quantize_layer_weights\n",
    "net_q2 = copy_model(net)\n",
    "quantize_layer_weights(net_q2, device)\n",
    "score = test(net_q2, testloader, None, device)\n",
    "print('Accuracy of the network after quantizing all weights: {}%'.format(score))"
   ]
  },
  {
   "cell_type": "markdown",
   "metadata": {
    "id": "xg7bfTF1bBVe"
   },
   "source": [
    "### 2.3 Question: Visualizing Activations\n",
    "Plot histograms of the input images and the output activations of each operation and answer the following questions in the report. Fill in the TODO in the following cell.\n",
    "1. Discuss any observations about the distribution of these activations.\n",
    "2. Record the range of the values, as well as their 3-sigma range (the difference between μ + 3σ and μ − 3σ)."
   ]
  },
  {
   "cell_type": "markdown",
   "metadata": {},
   "source": [
    "### 2.3 Answers\n",
    "<font color='red'>Write your answers here.</font><br />\n",
    "1. <br />\n",
    "\n",
    "&emsp;&emsp;除了最後的output層之外，每一層的輸出(輸入) activations 的分佈值大概都落在-1~2之間。由於各activations的dynamic range都很小，如果使用 FP-32 來表示的話，在硬體會增加很多不必要的運算負擔，所以我覺得很適合將各層的值映射到[-128, 127]之間，在之後實作硬體時用 INT-8 的運算來提升效率。<br />\n",
    "\n",
    "&emsp;&emsp; 最後會經過一層Fully Connected Layer，而此層的輸出數量為10個，故在最後一張output_activation的圖上可以看到，柱狀圖縱軸上的值加起來剛好就是等於10，符合我們對此架構的預期。\n",
    "\n",
    "\n",
    "\n",
    "\n",
    "2 .<br />\n",
    "&emsp;&emsp; Input Activations :<br />\n",
    "&emsp;&emsp; For input_activations, the total range [Min , Max] = [-1.0 , 0.9843137264251709]<br />\n",
    "&emsp;&emsp; For input_activations, the 3-sigma range = [-2.484403610229492 , 1.0379424095153809]<br />\n",
    "\n",
    "&emsp;&emsp; C1_output_activations Activations :<br />\n",
    "&emsp;&emsp; For c1_output_activations, the total range [Min , Max] = [0.0 , 2.3606197834014893]<br />\n",
    "&emsp;&emsp; For c1_output_activations, the 3-sigma range = [-0.9625270366668701 , 1.3123798370361328]<br />\n",
    "\n",
    "&emsp;&emsp; C3_output_activations Activations :<br />\n",
    "&emsp;&emsp; For c3_output_activations, the total range [Min , Max] = [0.0 , 3.69258713722229]<br />\n",
    "&emsp;&emsp; Forc3_output_activations, the 3-sigma range = [-1.215368390083313 , 1.4713600873947144]<br />\n",
    "\n",
    "&emsp;&emsp; C5 _output_activations Activations :<br />\n",
    "&emsp;&emsp; For c5_output_activations, the total range [Min , Max] = [0.0 , 11.398408889770508]<br />\n",
    "&emsp;&emsp; For c5_output_activations, the 3-sigma range = [-4.753542423248291 , 5.787658214569092]<br />\n",
    "\n",
    "&emsp;&emsp; F6_output_activations Activations :<br />\n",
    "&emsp;&emsp; For f6_output_activations, the total range [Min , Max] = [0.0 , 8.764769554138184]<br />\n",
    "&emsp;&emsp; For f6_output_activations, the 3-sigma range = [-5.145752429962158 , 6.852258205413818]<br />\n",
    "\n",
    "&emsp;&emsp; Output_output_activations Activations :<br />\n",
    "&emsp;&emsp; For output_output_activations, the total range [Min , Max] = [-14.359149932861328 , 5.721643447875977]<br />\n",
    "&emsp;&emsp; For output_output_activations, the 3-sigma range = [-28.67724609375 , 12.44088363647461]<br />\n"
   ]
  },
  {
   "cell_type": "code",
   "execution_count": 9,
   "metadata": {},
   "outputs": [],
   "source": [
    "net_q3 = copy_model(net)\n",
    "\n",
    "def visualizeActivations(module, input, output):\n",
    "    if module.profile_activations == True:\n",
    "        module.inAct = input[0].cpu().view(-1)\n",
    "        module.outAct = output[0].cpu().view(-1)\n",
    "    \n",
    "for name, model in net_q3.named_children():\n",
    "    model.profile_activations = True\n",
    "    model.register_forward_hook(visualizeActivations)\n",
    "net_q3.eval()\n",
    "with torch.no_grad():\n",
    "    input = trainset[0][0].unsqueeze(0)\n",
    "    _ = net_q3(input.to(device))  \n",
    "for name, model in net_q3.named_children(): model.profile_activations = False "
   ]
  },
  {
   "cell_type": "code",
   "execution_count": 10,
   "metadata": {
    "colab": {
     "base_uri": "https://localhost:8080/",
     "height": 1000
    },
    "executionInfo": {
     "elapsed": 117673,
     "status": "ok",
     "timestamp": 1616220848089,
     "user": {
      "displayName": "嚴中璟",
      "photoUrl": "",
      "userId": "01376426090096552571"
     },
     "user_tz": -480
    },
    "id": "AEo8VK46bwjn",
    "outputId": "9f46f8e3-347e-48c2-cd85-7de99fc569ed",
    "scrolled": false
   },
   "outputs": [
    {
     "data": {
      "image/png": "[encoded data removed]",
      "text/plain": [
       "<Figure size 432x288 with 1 Axes>"
      ]
     },
     "metadata": {
      "needs_background": "light"
     },
     "output_type": "display_data"
    },
    {
     "name": "stdout",
     "output_type": "stream",
     "text": [
      "For input_activations, the total range [Min , Max] = [-1.0 , 0.9843137264251709]\n",
      "For input_activations, the 3-sigma range = [-2.484403610229492 , 1.0379424095153809]\n"
     ]
    },
    {
     "data": {
      "image/png": "[encoded data removed]",
      "text/plain": [
       "<Figure size 432x288 with 1 Axes>"
      ]
     },
     "metadata": {
      "needs_background": "light"
     },
     "output_type": "display_data"
    },
    {
     "name": "stdout",
     "output_type": "stream",
     "text": [
      "For c1_output_activations, the total range [Min , Max] = [0.0 , 2.3606197834014893]\n",
      "For c1_output_activations, the 3-sigma range = [-0.9625270366668701 , 1.3123798370361328]\n"
     ]
    },
    {
     "data": {
      "image/png": "[encoded data removed]",
      "text/plain": [
       "<Figure size 432x288 with 1 Axes>"
      ]
     },
     "metadata": {
      "needs_background": "light"
     },
     "output_type": "display_data"
    },
    {
     "name": "stdout",
     "output_type": "stream",
     "text": [
      "For c3_output_activations, the total range [Min , Max] = [0.0 , 3.69258713722229]\n",
      "Forc3_output_activations, the 3-sigma range = [-1.215368390083313 , 1.4713600873947144]\n"
     ]
    },
    {
     "data": {
      "image/png": "[encoded data removed]",
      "text/plain": [
       "<Figure size 432x288 with 1 Axes>"
      ]
     },
     "metadata": {
      "needs_background": "light"
     },
     "output_type": "display_data"
    },
    {
     "name": "stdout",
     "output_type": "stream",
     "text": [
      "For c5_output_activations, the total range [Min , Max] = [0.0 , 11.398408889770508]\n",
      "For c5_output_activations, the 3-sigma range = [-4.753542423248291 , 5.787658214569092]\n"
     ]
    },
    {
     "data": {
      "image/png": "[encoded data removed]",
      "text/plain": [
       "<Figure size 432x288 with 1 Axes>"
      ]
     },
     "metadata": {
      "needs_background": "light"
     },
     "output_type": "display_data"
    },
    {
     "name": "stdout",
     "output_type": "stream",
     "text": [
      "For f6_output_activations, the total range [Min , Max] = [0.0 , 8.764769554138184]\n",
      "For f6_output_activations, the 3-sigma range = [-5.145752429962158 , 6.852258205413818]\n"
     ]
    },
    {
     "data": {
      "image/png": "[encoded data removed]",
      "text/plain": [
       "<Figure size 432x288 with 1 Axes>"
      ]
     },
     "metadata": {
      "needs_background": "light"
     },
     "output_type": "display_data"
    },
    {
     "name": "stdout",
     "output_type": "stream",
     "text": [
      "For output_output_activations, the total range [Min , Max] = [-14.359149932861328 , 5.721643447875977]\n",
      "For output_output_activations, the 3-sigma range = [-28.67724609375 , 12.44088363647461]\n"
     ]
    }
   ],
   "source": [
    "input_activations = net_q3.c1.inAct\n",
    "c1_output_activations = net_q3.c1.outAct\n",
    "c3_output_activations = net_q3.c3.outAct\n",
    "c5_output_activations = net_q3.c5.outAct\n",
    "f6_output_activations = net_q3.f6.outAct\n",
    "output_output_activations = net_q3.output.outAct\n",
    "\n",
    "# TODO\n",
    "#############################################\n",
    "hist_output, bins_output = np.histogram(input_activations, bins=10)\n",
    "plt.hist(bins_output[:-1], bins_output, weights=hist_output)\n",
    "plt.xlabel(\"IA range\")\n",
    "plt.ylabel(\"numbers of input\")\n",
    "plt.title(\"Histogram_input_activations with bins = 10\") \n",
    "plt.show()\n",
    "\n",
    "input_activations_min = min(input_activations)\n",
    "input_activations_max = max(input_activations)\n",
    "print(\"For input_activations, the total range [Min , Max] = [{} , {}]\".format(input_activations_min, input_activations_max))\n",
    "\n",
    "input_activations_avg = torch.mean(input_activations)\n",
    "input_activations_std = torch.std(input_activations)\n",
    "print(\"For input_activations, the 3-sigma range = [{} , {}]\"\n",
    "        .format(input_activations_avg-3*input_activations_std, input_activations_avg+3*input_activations_std))\n",
    "#############################################\n",
    "hist_c1, bins_c1 = np.histogram(c1_output_activations, bins=10)\n",
    "plt.hist(bins_c1[:-1], bins_c1, weights=hist_c1)\n",
    "plt.xlabel(\"OA range\")\n",
    "plt.ylabel(\"numbers of output\")\n",
    "plt.title(\"Histogram_c1_output_activations with bins = 10\") \n",
    "plt.show()\n",
    "\n",
    "c1_output_activations_min = min(c1_output_activations)\n",
    "c1_output_activations_max = max(c1_output_activations)\n",
    "print(\"For c1_output_activations, the total range [Min , Max] = [{} , {}]\".format(c1_output_activations_min, c1_output_activations_max))\n",
    "\n",
    "c1_output_activations_avg = torch.mean(c1_output_activations)\n",
    "c1_output_activations_std = torch.std(c1_output_activations)\n",
    "print(\"For c1_output_activations, the 3-sigma range = [{} , {}]\"\n",
    "        .format(c1_output_activations_avg-3*c1_output_activations_std, c1_output_activations_avg+3*c1_output_activations_std))\n",
    "#############################################\n",
    "hist_c3, bins_c3 = np.histogram(c3_output_activations, bins=10)\n",
    "plt.hist(bins_c3[:-1], bins_c3, weights=hist_c3)\n",
    "plt.xlabel(\"OA range\")\n",
    "plt.ylabel(\"numbers of output\")\n",
    "plt.title(\"Histogram_c3_output_activations with bins = 10\") \n",
    "plt.show()\n",
    "\n",
    "c3_output_activations_min = min(c3_output_activations)\n",
    "c3_output_activations_max = max(c3_output_activations)\n",
    "print(\"For c3_output_activations, the total range [Min , Max] = [{} , {}]\".format(c3_output_activations_min, c3_output_activations_max))\n",
    "\n",
    "c3_output_activations_avg = torch.mean(c3_output_activations)\n",
    "c3_output_activations_std = torch.std(c3_output_activations)\n",
    "print(\"Forc3_output_activations, the 3-sigma range = [{} , {}]\"\n",
    "        .format(c3_output_activations_avg-3*c3_output_activations_std, c3_output_activations_avg+3*c3_output_activations_std))\n",
    "#############################################\n",
    "hist_c5, bins_c5 = np.histogram(c5_output_activations, bins=10)\n",
    "plt.hist(bins_c5[:-1], bins_c5, weights=hist_c5)\n",
    "plt.xlabel(\"OA range\")\n",
    "plt.ylabel(\"numbers of output\")\n",
    "plt.title(\"Histogram_c5_output_activations with bins = 10\") \n",
    "plt.show()\n",
    "\n",
    "c5_output_activations_min = min(c5_output_activations)\n",
    "c5_output_activations_max = max(c5_output_activations)\n",
    "print(\"For c5_output_activations, the total range [Min , Max] = [{} , {}]\".format(c5_output_activations_min, c5_output_activations_max))\n",
    "\n",
    "c5_output_activations_avg = torch.mean(c5_output_activations)\n",
    "c5_output_activations_std = torch.std(c5_output_activations)\n",
    "print(\"For c5_output_activations, the 3-sigma range = [{} , {}]\"\n",
    "        .format(c5_output_activations_avg-3*c5_output_activations_std, c5_output_activations_avg+3*c5_output_activations_std))\n",
    "#############################################\n",
    "hist_f6, bins_f6 = np.histogram(f6_output_activations, bins=10)\n",
    "plt.hist(bins_f6[:-1], bins_f6, weights=hist_f6)\n",
    "plt.xlabel(\"OA range\")\n",
    "plt.ylabel(\"numbers of output\")\n",
    "plt.title(\"Histogram_f6_output_activations with bins = 10\") \n",
    "plt.show()\n",
    "\n",
    "f6_output_activations_min = min(f6_output_activations)\n",
    "f6_output_activations_max = max(f6_output_activations)\n",
    "print(\"For f6_output_activations, the total range [Min , Max] = [{} , {}]\".format(f6_output_activations_min, f6_output_activations_max))\n",
    "\n",
    "f6_output_activations_avg = torch.mean(f6_output_activations)\n",
    "f6_output_activations_std = torch.std(f6_output_activations)\n",
    "print(\"For f6_output_activations, the 3-sigma range = [{} , {}]\"\n",
    "        .format(f6_output_activations_avg-3*f6_output_activations_std, f6_output_activations_avg+3*f6_output_activations_std))\n",
    "#############################################\n",
    "hist_output, bins_output = np.histogram(output_output_activations, bins=12)\n",
    "plt.hist(bins_output[:-1], bins_output, weights=hist_output)\n",
    "plt.xlabel(\"OA range\")\n",
    "plt.ylabel(\"numbers of output\")\n",
    "plt.title(\"Histogram_output_output_activations with bins = 12\") \n",
    "plt.show()\n",
    "\n",
    "output_output_activations_min = min(output_output_activations)\n",
    "output_output_activations_max = max(output_output_activations)\n",
    "print(\"For output_output_activations, the total range [Min , Max] = [{} , {}]\".format(output_output_activations_min, output_output_activations_max))\n",
    "\n",
    "output_output_activations_avg = torch.mean(output_output_activations)\n",
    "output_output_activations_std = torch.std(output_output_activations)\n",
    "print(\"For output_output_activations, the 3-sigma range = [{} , {}]\"\n",
    "        .format(output_output_activations_avg-3*output_output_activations_std, output_output_activations_avg+3*output_output_activations_std))"
   ]
  },
  {
   "cell_type": "markdown",
   "metadata": {
    "id": "haiPVx4ibEra"
   },
   "source": [
    "### 2.4 Question:  Quantizing Activations\n",
    "The output of conv in `c1` can be $$W_{conv1}* I=O_{conv1}.$$\n",
    "Let the scaling factor of the quantized input matrix $I$ be $n_I$, the scaling factor of the quantized weight matrix $W_{conv1}$ \n",
    "be $n_{W_{c1}}$, and the scaling factor of the output matrix $O_{conv1}$ be $n_{O_{c1}}$.  \n",
    "$$W_{conv1_q}* I_q = (n_{W_{c1}}W_{conv1})* (n_II)\\approx (n_{W_{c1}}n_I)O_{conv1}$$\n",
    "where $W_{conv1_q}$ is the quantized 8-bit signed integer weight tensor and $I_q$ is the quantized 8-bit signed integer input activation tensor.\n",
    "\n",
    "On the other hand,\n",
    "$$O_{conv1_q} \\approx n_{O_{c1}}O_{conv1}$$\n",
    "where $O_{conv1_q}$ is the quantized 8-bit signed integer output activation tensor \"without\" considering quantized weight tensor and quantized input activation tensor.\n",
    "\n",
    "Since we're doing post-training quantization, we can get $n_I$, $n_{W_{c1}}$, and $n_{O_{c1}}$ first and do the other calculations for quantization.\n",
    "\n",
    "Answer the following questions in the report.\n",
    "\n",
    "1. How to compute $n_I$, $n_{W_{c1}}$, and $n_{O_{c1}}$? \n",
    "2. The ture quantized output activation tensor is depend on $W_{conv1_q}$ and $I_q$, so we cannot simply apply $n_{O_{c1}}$ on the output of $W_{conv1_q}* I_q$ to quantize the output activation. Derive an equation for the quantized output of the conv in c1 after quantizing activation and weight with  $n_I$, $n_{W_{c1}}$, and $n_{O_{c1}}$ and show the scaling factor $S_1$ of it. \\\n",
    "(hint: quantize $O$ in $W_{conv1_q}* I_q = O$ and get $W_{conv1_q}* I_q \\approx S_1O = O_q$ where $O_q$ is the quantized 8-bit signed integer output.)\n",
    "3. Derive an equation for the quantized output of the conv in `c3` after quantizing activation and weight.\n",
    "4. Show the general form of the equation for layer $l$ to calculate the scaling factor $S_l$ of the output activation.\n",
    "   * You may use notations like $W_l, O_l$ to indicate the weight and output activation of layer $l$, respectively.\n",
    "   * Fill in the TODO in `quantize_initial_input()` and `quantize_activations()` of `NetQuantized()` to compute $n_I$ and $S_l$ for the layer $l$ that scale values in the range of 8-bit signed integers.\n",
    "5. As for `forward()` of `NetQuantized()`, make sure you can simulate fixed-point representation when doing any calculation with input/output scale. Keep in mind that we will implement hardware to accelerate this model with fixed-point computations.\n",
    "   * In this assignment, we only \"emulate\" fixed-point computations. We don't need to use any fixed-point data type (e.g., `int`).\n",
    "   * You will have to fill in the TODO in `forward()` to scale the outputs of each layer. Consider rounding binary fractions to the 16th place with the following steps (e.g., for output_scale): \n",
    "       1. `scale = round(scale*(2**16))`: Now, we have the `scale` rounded to the 16th place with a software trick of moving the binary point (`*(2**16)`) and applying the round function.\n",
    "       2. `(scale*features) >> 16`: Move back the binary point.\n",
    "       3. Clamp the value between -128 and 127\n",
    "    * As for scaling the initial input, you can simply perform `round(scale)*features` since `input_scale` is much greater than 1.\n",
    "    * If you have done everything correctly, the accuracy degradation should be negligible. \n",
    "    * What is the accuracy degradation? Show both relative and absolute errors when the actual value is the accuracy before quantization.\n",
    "6. What are the pros and cons of using fixed-point representation when forwarding feature maps to the next layer?\n",
    "7. Show the all `output_scale`s before and after `round(scale*(2**16))`?"
   ]
  },
  {
   "cell_type": "markdown",
   "metadata": {},
   "source": [
    "### 2.4 Answers\n",
    "<font color='red'>Write your answers here.</font>\n",
    "1. <br />\n",
    "$$n_I= \\frac{255}{2*|Input|_{max}}$$\n",
    "\n",
    "$$n_{Wc1} = \\frac{255}{2*|Weight_{c1}|_{max}}$$\n",
    "\n",
    "$$n_{Oc1} = \\frac{255}{2*|Output_{c1}|_{max}}$$\n",
    "\n",
    "2. <br />\n",
    "$$S_1 = \\frac{n_{Oc1}}{(n_I)*(n_{Wc1})}$$\n",
    "\n",
    "3.  <br />\n",
    "$$S_3 = \\frac{n_{Oc3}}{(n_{Oc1})*(n_{Wc3})}$$\n",
    "\n",
    "4.  <br />\n",
    "$$S_l = \\frac{n_{Ocl}}{(n_{O_l-1})*(n_{Wcl})} \\quad where\\quad n_{O_l-1} = (S_{l-1}*n_{W_c{l-1}})*(S_{l-2}*n_{W_c{l-2}})*(S_{l-3}*n_{W_c{l-3}})*......*(S_1*n_{W_c1}*n_I)$$ <br /> \n",
    "\n",
    "5. <br />\n",
    "$$ Ture \\quad value = 98.48\\% \\quad Experiment \\quad value = 98.51\\%$$ <br />\n",
    "$$ Relative\\_error = | \\frac {98.51\\%-98.48\\%} {98.48\\%} | * 100\\%  = 0.03046\\%$$ <br />\n",
    "$$ Absolute\\_error = | 98.51\\%-98.48\\% | = 0.03\\% $$ <br />\n",
    "\n",
    "6. <br />\n",
    "Pros: <br />\n",
    "&emsp;&emsp;  使用fixed-point來表示的話，在用硬體實現convolution或是其他運算的時候，可以直接使用integer的運算來完成。<br />\n",
    "相較於用硬體來計算floating-point的話，使用integer的乘法器或是加法器可以大幅節省硬體的面積以及大幅降低運算時所消耗的Power。\n",
    "\n",
    "&emsp;&emsp; Cons: <br />\n",
    "&emsp;&emsp; &emsp;&emsp; 從前幾題的histogram可以發現，原先使用floating-point表示的activations大部分都落在-1~2之間，並且所有數字都有很高的精確度(high precision)。<br />\n",
    "&emsp;&emsp; 一旦將floating-point轉換成fixed-point之後，由於我們會對其使用round()將數值變成整數，故會產生多個floating-point映射到單一fixed-point的情況，<br /> \n",
    "&emsp;&emsp;也就是會有「Quantization error」or「Rounding error」出現，因此會導致我們在計算過程中的精確度(precison)下降許多。\n",
    "\n",
    "        \n",
    "7. <br />\n",
    "\n",
    "&emsp;&emsp; c1_output_scale: (befor, after) = (0.0013389328960329294, 88.0)<br />\n",
    "&emsp;&emsp; c3_output_scale: (befor, after) = (0.003377986839041114, 221.0)<br />\n",
    "&emsp;&emsp; c5_output_scale: (befor, after) = (0.0019373289542272687, 127.0)<br />\n",
    "&emsp;&emsp; f6_output_scale: (befor, after) = (0.005584183149039745, 366.0)<br />\n",
    "&emsp;&emsp; output_output_scale: (befor, after) = (0.005218325182795525, 342.0)<br />\n",
    "\n",
    "\n",
    "\n",
    "\n",
    "\n",
    "\n",
    "\n",
    "\n"
   ]
  },
  {
   "cell_type": "code",
   "execution_count": 11,
   "metadata": {
    "id": "13CpHgvE994J"
   },
   "outputs": [],
   "source": [
    "from nnutils import NetQuantized\n",
    "from copy import deepcopy\n",
    "\n",
    "net_init = copy_model(net_q2)\n",
    "net_init.input_activations = deepcopy(net_q3.c1.inAct)\n",
    "        \n",
    "for layer_init, layer_q3 in zip(net_init.children(), net_q3.children()):\n",
    "    layer_init.inAct = deepcopy(layer_q3.inAct)\n",
    "    layer_init.outAct = deepcopy(layer_q3.outAct)\n",
    "\n",
    "net_quantized = NetQuantized(net_init)"
   ]
  },
  {
   "cell_type": "code",
   "execution_count": 12,
   "metadata": {
    "colab": {
     "base_uri": "https://localhost:8080/"
    },
    "executionInfo": {
     "elapsed": 126717,
     "status": "ok",
     "timestamp": 1616220857145,
     "user": {
      "displayName": "嚴中璟",
      "photoUrl": "",
      "userId": "01376426090096552571"
     },
     "user_tz": -480
    },
    "id": "VcBXEodN6hrY",
    "outputId": "bd7a978e-a454-46d3-a11c-c1b01bdd7014"
   },
   "outputs": [
    {
     "name": "stdout",
     "output_type": "stream",
     "text": [
      "Accuracy of the network after quantizing both weights and activations: 98.49%\n"
     ]
    }
   ],
   "source": [
    "score = test(net_quantized, testloader, max_samples=None, device=device)\n",
    "print('Accuracy of the network after quantizing both weights and activations: {}%'.format(score))"
   ]
  },
  {
   "cell_type": "markdown",
   "metadata": {
    "id": "1jTOL7scbMs7"
   },
   "source": [
    "### 2.5 Question:  Quantizing Biases\n",
    "We add a bias in the final layer of this LeNet.\n",
    "\n",
    "Answer the following questions in the report.\n",
    "1. Now, the equation is $$W*I+\\beta = O,$$ where $\\beta$ is the bias. Derive the equation of a quantized layer with bias.\\\n",
    "Note that our biases are commonly quantized to 32-bits. Therefore, your bias values are not necessary between -128 and 127.\n",
    "2. What is the scaling factor for the bias?\\\n",
    "(hint: the form looks just like what we have done for quantizing activations)\n",
    "3. Fill in the TODO in `NetQuantizedWithBias()`.If you have done everything correctly, the accuracy degradation should be negligible. What is the accuracy degradation?\n",
    "    * Show both relative error and absolute error when the true value is the accuracy we get before performing any quantization."
   ]
  },
  {
   "cell_type": "markdown",
   "metadata": {},
   "source": [
    "### 2.5 Answers\n",
    "<font color='red'>Write your answers here.</font>\n",
    "1. <br /> \n",
    "Equation of a quantized layer with bias : $$W_q*I_q+\\beta_q = n_wW*n_II + n_b\\beta$$<br /> \n",
    "\n",
    "2. <br /> \n",
    "$$S_B = \\frac{n_b}{(n_{O_l-1})*(n_{Wcl})} $$\n",
    "$$where\\quad n_{O_l-1} = (S_{l-1}*n_{W_c{l-1}})*(S_{l-2}*n_{W_c{l-2}})*(S_{l-3}*n_{W_c{l-3}})*......*(S_1*n_{W_c1}*n_I) 、 \n",
    "n_b = \\frac{2^8-1}{2*|Bias|_{max}} $$ <br /> \n",
    "\n",
    "\n",
    "\n",
    "3. <br /> \n",
    "$$ Ture \\quad value = 98.78\\% \\quad Experiment \\quad value = 98.83\\%$$ <br />\n",
    "$$ Relative\\_error = | \\frac {98.83\\%-98.78\\%} {98.78\\%} | * 100\\%  = 0.0506\\%$$ <br />\n",
    "$$ Absolute\\_error = | 98.83\\%-98.78\\% | = 0.05\\% $$ <br />"
   ]
  },
  {
   "cell_type": "markdown",
   "metadata": {},
   "source": [
    "* After training the model, we will save it as `lenet_with_bias.pt`.\n",
    "* You should comment out `train(net_with_bias, trainloader, device)` and uncomment `net_with_bias.load_state_dict(torch.load('lenet_with_bias.pt'))` before submitting your homework.\n",
    "    * Note that reloading the model from `lenet_with_bias.pt` can save your time. You don't need train the model from scratch every time."
   ]
  },
  {
   "cell_type": "code",
   "execution_count": 13,
   "metadata": {
    "colab": {
     "base_uri": "https://localhost:8080/"
    },
    "executionInfo": {
     "elapsed": 210363,
     "status": "ok",
     "timestamp": 1616220940798,
     "user": {
      "displayName": "嚴中璟",
      "photoUrl": "",
      "userId": "01376426090096552571"
     },
     "user_tz": -480
    },
    "id": "wjk3hEQaVDpq",
    "outputId": "d1479d65-1409-41bf-8235-8c3b3a915b62"
   },
   "outputs": [
    {
     "name": "stdout",
     "output_type": "stream",
     "text": [
      "Accuracy of the network (with a bias) on the test images: 98.78%\n"
     ]
    }
   ],
   "source": [
    "from nnutils import LeNet_with_bias\n",
    "\n",
    "net_with_bias = LeNet_with_bias().to(device)\n",
    "#train(net_with_bias, trainloader, device)\n",
    "net_with_bias.load_state_dict(torch.load('lenet_with_bias.pt'))\n",
    "score = test(net_with_bias, testloader, max_samples=None, device=device)\n",
    "\n",
    "print('Accuracy of the network (with a bias) on the test images: {}%'.format(score))\n",
    "torch.save(net_with_bias.state_dict(), 'lenet_with_bias.pt')"
   ]
  },
  {
   "cell_type": "code",
   "execution_count": 14,
   "metadata": {
    "id": "U_ZiJk6yEEM-",
    "scrolled": true
   },
   "outputs": [],
   "source": [
    "for name, model in net_with_bias.named_children():\n",
    "    model.profile_activations = True\n",
    "    model.register_forward_hook(visualizeActivations)\n",
    "net_with_bias.eval()\n",
    "with torch.no_grad():\n",
    "    input = trainset[0][0].unsqueeze(0)\n",
    "    _ = net_with_bias(input.to(device))\n",
    "for name, model in net_with_bias.named_children(): model.profile_activations = False "
   ]
  },
  {
   "cell_type": "code",
   "execution_count": 15,
   "metadata": {
    "colab": {
     "base_uri": "https://localhost:8080/"
    },
    "executionInfo": {
     "elapsed": 222625,
     "status": "ok",
     "timestamp": 1616220953076,
     "user": {
      "displayName": "嚴中璟",
      "photoUrl": "",
      "userId": "01376426090096552571"
     },
     "user_tz": -480
    },
    "id": "yZwk8KLtAUAM",
    "outputId": "a1c4140f-70d5-46d4-8fcc-d164a1e27be7"
   },
   "outputs": [
    {
     "name": "stdout",
     "output_type": "stream",
     "text": [
      "Accuracy of the network on the test images after all the weights are quantized but the bias isn't: 98.79%\n"
     ]
    }
   ],
   "source": [
    "net_with_bias_with_quantized_weights = copy_model(net_with_bias)\n",
    "quantize_layer_weights(net_with_bias_with_quantized_weights, device)\n",
    "\n",
    "score = test(net_with_bias_with_quantized_weights, testloader, max_samples=None, device=device)\n",
    "print('Accuracy of the network on the test images after all the weights are quantized but the bias isn\\'t: {}%'.format(score))"
   ]
  },
  {
   "cell_type": "code",
   "execution_count": 16,
   "metadata": {
    "id": "mO2Gdu_tEZ4v"
   },
   "outputs": [
    {
     "name": "stdout",
     "output_type": "stream",
     "text": [
      "Accuracy of the network on the test images after all the weights and the bias are quantized: 98.82%\n"
     ]
    }
   ],
   "source": [
    "from nnutils import NetQuantizedWithBias\n",
    "net_quantized_with_bias = NetQuantizedWithBias(net_with_bias_with_quantized_weights)\n",
    "score = test(net_quantized_with_bias, testloader, max_samples=None, device=device)\n",
    "print('Accuracy of the network on the test images after all the weights and the bias are quantized: {}%'.format(score))"
   ]
  },
  {
   "cell_type": "markdown",
   "metadata": {
    "id": "U_W-RCmHjlkg"
   },
   "source": [
    "# Extract the inputs and outputs of the quantized model."
   ]
  },
  {
   "cell_type": "code",
   "execution_count": 17,
   "metadata": {
    "id": "AllumB6-YI9B"
   },
   "outputs": [],
   "source": [
    "# Replace and save the model with quantized biases.\n",
    "inference_model = copy_model(net_quantized_with_bias)\n",
    "torch.save(inference_model.state_dict(), 'net_quantized_with_bias.pt')"
   ]
  },
  {
   "cell_type": "code",
   "execution_count": 18,
   "metadata": {
    "colab": {
     "base_uri": "https://localhost:8080/"
    },
    "executionInfo": {
     "elapsed": 9169,
     "status": "ok",
     "timestamp": 1616221199222,
     "user": {
      "displayName": "嚴中璟",
      "photoUrl": "",
      "userId": "01376426090096552571"
     },
     "user_tz": -480
    },
    "id": "jWPqoj8tf0Rr",
    "outputId": "f4a68d8d-35b6-48d3-8f30-84dc3c1b19f9"
   },
   "outputs": [
    {
     "name": "stdout",
     "output_type": "stream",
     "text": [
      "Accuracy of the network after quantizing both weights and activations: 98.82%\n"
     ]
    }
   ],
   "source": [
    "# Use the accuray to check if it remains the same.\n",
    "score = test(inference_model, testloader, max_samples=None, device = device)\n",
    "print('Accuracy of the network after quantizing both weights and activations: {}%'.format(score))"
   ]
  },
  {
   "cell_type": "markdown",
   "metadata": {
    "id": "5TfpcnC60_g4"
   },
   "source": [
    "Choose 100 images to generate patterns for our homework 2."
   ]
  },
  {
   "cell_type": "code",
   "execution_count": 19,
   "metadata": {
    "id": "CByZgw-ftMBD"
   },
   "outputs": [],
   "source": [
    "index = range(100)"
   ]
  },
  {
   "cell_type": "markdown",
   "metadata": {
    "id": "x9M4QXt60WmL"
   },
   "source": [
    "Save the input/output activations to the CSV format."
   ]
  },
  {
   "cell_type": "code",
   "execution_count": 20,
   "metadata": {
    "id": "WSIdYFyZshFj"
   },
   "outputs": [],
   "source": [
    "import os \n",
    "import zipfile\n",
    "# It is easier to download all the files zipped.\n",
    "zf = zipfile.ZipFile('parameters.zip', 'w', zipfile.ZIP_DEFLATED)\n",
    "\n",
    "if not os.path.exists('./activations'):\n",
    "    os.mkdir('./activations')"
   ]
  },
  {
   "cell_type": "code",
   "execution_count": 21,
   "metadata": {},
   "outputs": [],
   "source": [
    "for ind in range(100):\n",
    "    if not os.path.exists('./activations/img{}'.format(ind)):\n",
    "        os.mkdir('./activations/img{}'.format(ind))\n",
    "\n",
    "    for name, model in inference_model.named_children():\n",
    "        model.profile_activations = True\n",
    "        model.register_forward_hook(visualizeActivations)\n",
    "    input, label = testset[index[ind]]\n",
    "    output = inference_model(input.unsqueeze(0).to(device))\n",
    "    for name, model in inference_model.named_children(): model.profile_activations = False \n",
    "    \n",
    "    np.savetxt('./activations/img{}/input.csv'.format(ind), input.cpu().data.numpy().reshape(-1), delimiter=',')\n",
    "    np.savetxt('./activations/img{}/output.csv'.format(ind), output.cpu().data.numpy().reshape(-1).astype(int), delimiter=',')\n",
    "    zf.write('./activations/img{}/input.csv'.format(ind))\n",
    "    zf.write('./activations/img{}/output.csv'.format(ind))\n",
    "    \n",
    "    opDict = {\n",
    "        'c1': (inference_model.c1.inAct, inference_model.c1.outAct),\n",
    "        's2': (inference_model.s2.inAct, inference_model.s2.outAct),\n",
    "        'c3': (inference_model.c3.inAct, inference_model.c3.outAct),\n",
    "        's4': (inference_model.s4.inAct, inference_model.s4.outAct),\n",
    "        'c5': (inference_model.c5.inAct, inference_model.c5.outAct),\n",
    "        'f6': (inference_model.f6.inAct, inference_model.f6.outAct),\n",
    "        'output': (inference_model.output.inAct, inference_model.output.outAct)\n",
    "    }\n",
    "    \n",
    "    for key in opDict:\n",
    "        if not os.path.exists('./activations/img{}/{}'.format(ind, key)):\n",
    "            os.mkdir('./activations/img{}/{}'.format(ind, key))\n",
    "        np.savetxt('./activations/img{}/{}/input.csv'.format(ind, key), opDict[key][0].cpu().data.numpy().reshape(-1).astype(int), delimiter=',')\n",
    "        np.savetxt('./activations/img{}/{}/output.csv'.format(ind, key), opDict[key][1].cpu().data.numpy().reshape(-1).astype(int), delimiter=',')\n",
    "        zf.write('./activations/img{}/{}/input.csv'.format(ind, key))\n",
    "        zf.write('./activations/img{}/{}/output.csv'.format(ind, key))"
   ]
  },
  {
   "cell_type": "markdown",
   "metadata": {
    "id": "5jo_TlzE1dqy"
   },
   "source": [
    "Save the weights of each layer to the CSV format."
   ]
  },
  {
   "cell_type": "code",
   "execution_count": 22,
   "metadata": {
    "colab": {
     "base_uri": "https://localhost:8080/"
    },
    "executionInfo": {
     "elapsed": 240071,
     "status": "ok",
     "timestamp": 1616220970548,
     "user": {
      "displayName": "嚴中璟",
      "photoUrl": "",
      "userId": "01376426090096552571"
     },
     "user_tz": -480
    },
    "id": "27MD_hJUzlnf",
    "outputId": "bdf5c54c-df3b-4cc6-aa48-ddf6fb1e6f56"
   },
   "outputs": [
    {
     "name": "stdout",
     "output_type": "stream",
     "text": [
      "c1.conv.weight with shape: torch.Size([6, 1, 5, 5])\n",
      "c3.conv.weight with shape: torch.Size([16, 6, 5, 5])\n",
      "c5.conv.weight with shape: torch.Size([120, 16, 5, 5])\n",
      "f6.fc.weight with shape: torch.Size([84, 120])\n",
      "output.fc.weight with shape: torch.Size([10, 84])\n",
      "output.fc.bias with shape: torch.Size([10])\n"
     ]
    }
   ],
   "source": [
    "if not os.path.exists('./weights'):\n",
    "    os.mkdir('./weights')\n",
    "    \n",
    "for name, weights in inference_model.state_dict().items():\n",
    "    print(name, 'with shape:' , weights.shape)\n",
    "    np.savetxt('./weights/%s.csv' %(name) , weights.cpu().numpy().reshape(-1).astype(int), delimiter=',')\n",
    "    zf.write('./weights/%s.csv' %(name))"
   ]
  },
  {
   "cell_type": "markdown",
   "metadata": {
    "id": "mG9TAca-Jbg6"
   },
   "source": [
    "Record the scaling factors to JSON file."
   ]
  },
  {
   "cell_type": "code",
   "execution_count": 23,
   "metadata": {
    "id": "VNqV21YVimKD"
   },
   "outputs": [
    {
     "name": "stdout",
     "output_type": "stream",
     "text": [
      "{'input_scale': 127.5, 'c1_output_scale': 0.0012627514079213142, 'c3_output_scale': 0.004621508531272411, 'c5_output_scale': 0.003043838543817401, 'f6_output_scale': 0.004349252209067345, 'output_output_scale': 0.00411237683147192}\n"
     ]
    }
   ],
   "source": [
    "import json\n",
    "scales = {'input_scale':inference_model.input_scale.item(), 'c1_output_scale': inference_model.c1.output_scale.item(), 'c3_output_scale':inference_model.c3.output_scale.item(),\n",
    "        'c5_output_scale' :inference_model.c5.output_scale.item(), 'f6_output_scale':inference_model.f6.output_scale.item(), 'output_output_scale':inference_model.output.output_scale.item()}\n",
    "print(scales)\n",
    "with open('scale.json', 'w', newline='') as jsonfile:\n",
    "    json.dump(scales, jsonfile)\n",
    "\n",
    "zf.write('./scale.json')"
   ]
  },
  {
   "cell_type": "code",
   "execution_count": 24,
   "metadata": {},
   "outputs": [
    {
     "name": "stdout",
     "output_type": "stream",
     "text": [
      "{'input_scale': 128, 'c1_output_scale': 83, 'c3_output_scale': 303, 'c5_output_scale': 199, 'f6_output_scale': 285, 'output_output_scale': 270}\n"
     ]
    }
   ],
   "source": [
    "import json\n",
    "scale_hw = {\n",
    "    'input_scale': int(round(inference_model.input_scale.item())), \n",
    "    'c1_output_scale': int(round(inference_model.c1.output_scale.item()*(2**16))), \n",
    "    'c3_output_scale': int(round(inference_model.c3.output_scale.item()*(2**16))),\n",
    "    'c5_output_scale' : int(round(inference_model.c5.output_scale.item()*(2**16))), \n",
    "    'f6_output_scale': int(round(inference_model.f6.output_scale.item()*(2**16))), \n",
    "    'output_output_scale': int(round(inference_model.output.output_scale.item()*(2**16)))\n",
    "}\n",
    "print(scale_hw)\n",
    "with open('scale_hw.json', 'w', newline='') as jsonfile:\n",
    "    json.dump(scale_hw, jsonfile)\n",
    "\n",
    "zf.write('./scale_hw.json')"
   ]
  },
  {
   "cell_type": "markdown",
   "metadata": {
    "id": "HbUYA1VpKLAB"
   },
   "source": [
    "Save the zip file."
   ]
  },
  {
   "cell_type": "code",
   "execution_count": 25,
   "metadata": {
    "id": "BlOLRLdTJqcm"
   },
   "outputs": [],
   "source": [
    "zf.close()"
   ]
  }
 ],
 "metadata": {
  "accelerator": "GPU",
  "colab": {
   "collapsed_sections": [],
   "name": "Hardware For ML - Lab 1.ipynb",
   "provenance": [
    {
     "file_id": "12ETP3DfjvmL3C_J3MzCYQO6kx63xchet",
     "timestamp": 1612245741926
    }
   ],
   "toc_visible": true
  },
  "kernelspec": {
   "display_name": "Python 3",
   "language": "python",
   "name": "python3"
  },
  "language_info": {
   "codemirror_mode": {
    "name": "ipython",
    "version": 3
   },
   "file_extension": ".py",
   "mimetype": "text/x-python",
   "name": "python",
   "nbconvert_exporter": "python",
   "pygments_lexer": "ipython3",
   "version": "3.7.6"
  },
  "widgets": {
   "application/vnd.jupyter.widget-state+json": {
    "0aeb04f9938842e8bca8ebdada4373c8": {
     "model_module": "@jupyter-widgets/controls",
     "model_name": "ProgressStyleModel",
     "state": {
      "_model_module": "@jupyter-widgets/controls",
      "_model_module_version": "1.5.0",
      "_model_name": "ProgressStyleModel",
      "_view_count": null,
      "_view_module": "@jupyter-widgets/base",
      "_view_module_version": "1.2.0",
      "_view_name": "StyleView",
      "bar_color": null,
      "description_width": "initial"
     }
    },
    "31f1e93651c8492186e50beffb49c8c7": {
     "model_module": "@jupyter-widgets/base",
     "model_name": "LayoutModel",
     "state": {
      "_model_module": "@jupyter-widgets/base",
      "_model_module_version": "1.2.0",
      "_model_name": "LayoutModel",
      "_view_count": null,
      "_view_module": "@jupyter-widgets/base",
      "_view_module_version": "1.2.0",
      "_view_name": "LayoutView",
      "align_content": null,
      "align_items": null,
      "align_self": null,
      "border": null,
      "bottom": null,
      "display": null,
      "flex": null,
      "flex_flow": null,
      "grid_area": null,
      "grid_auto_columns": null,
      "grid_auto_flow": null,
      "grid_auto_rows": null,
      "grid_column": null,
      "grid_gap": null,
      "grid_row": null,
      "grid_template_areas": null,
      "grid_template_columns": null,
      "grid_template_rows": null,
      "height": null,
      "justify_content": null,
      "justify_items": null,
      "left": null,
      "margin": null,
      "max_height": null,
      "max_width": null,
      "min_height": null,
      "min_width": null,
      "object_fit": null,
      "object_position": null,
      "order": null,
      "overflow": null,
      "overflow_x": null,
      "overflow_y": null,
      "padding": null,
      "right": null,
      "top": null,
      "visibility": null,
      "width": null
     }
    },
    "47b111ac5ec8457b912cec20ef96742e": {
     "model_module": "@jupyter-widgets/controls",
     "model_name": "HTMLModel",
     "state": {
      "_dom_classes": [],
      "_model_module": "@jupyter-widgets/controls",
      "_model_module_version": "1.5.0",
      "_model_name": "HTMLModel",
      "_view_count": null,
      "_view_module": "@jupyter-widgets/controls",
      "_view_module_version": "1.5.0",
      "_view_name": "HTMLView",
      "description": "",
      "description_tooltip": null,
      "layout": "IPY_MODEL_af46cef6b773427595ac29fbf42e756d",
      "placeholder": "​",
      "style": "IPY_MODEL_bdafb2a00db34c1f83bdd08632cad61a",
      "value": " 170499072/? [00:05&lt;00:00, 33001447.83it/s]"
     }
    },
    "95a8407c96844c38a515a7fba99d487a": {
     "model_module": "@jupyter-widgets/controls",
     "model_name": "HBoxModel",
     "state": {
      "_dom_classes": [],
      "_model_module": "@jupyter-widgets/controls",
      "_model_module_version": "1.5.0",
      "_model_name": "HBoxModel",
      "_view_count": null,
      "_view_module": "@jupyter-widgets/controls",
      "_view_module_version": "1.5.0",
      "_view_name": "HBoxView",
      "box_style": "",
      "children": [
       "IPY_MODEL_e908845cf90a4f07a74b5ebdbcfb541e",
       "IPY_MODEL_47b111ac5ec8457b912cec20ef96742e"
      ],
      "layout": "IPY_MODEL_31f1e93651c8492186e50beffb49c8c7"
     }
    },
    "af46cef6b773427595ac29fbf42e756d": {
     "model_module": "@jupyter-widgets/base",
     "model_name": "LayoutModel",
     "state": {
      "_model_module": "@jupyter-widgets/base",
      "_model_module_version": "1.2.0",
      "_model_name": "LayoutModel",
      "_view_count": null,
      "_view_module": "@jupyter-widgets/base",
      "_view_module_version": "1.2.0",
      "_view_name": "LayoutView",
      "align_content": null,
      "align_items": null,
      "align_self": null,
      "border": null,
      "bottom": null,
      "display": null,
      "flex": null,
      "flex_flow": null,
      "grid_area": null,
      "grid_auto_columns": null,
      "grid_auto_flow": null,
      "grid_auto_rows": null,
      "grid_column": null,
      "grid_gap": null,
      "grid_row": null,
      "grid_template_areas": null,
      "grid_template_columns": null,
      "grid_template_rows": null,
      "height": null,
      "justify_content": null,
      "justify_items": null,
      "left": null,
      "margin": null,
      "max_height": null,
      "max_width": null,
      "min_height": null,
      "min_width": null,
      "object_fit": null,
      "object_position": null,
      "order": null,
      "overflow": null,
      "overflow_x": null,
      "overflow_y": null,
      "padding": null,
      "right": null,
      "top": null,
      "visibility": null,
      "width": null
     }
    },
    "bdafb2a00db34c1f83bdd08632cad61a": {
     "model_module": "@jupyter-widgets/controls",
     "model_name": "DescriptionStyleModel",
     "state": {
      "_model_module": "@jupyter-widgets/controls",
      "_model_module_version": "1.5.0",
      "_model_name": "DescriptionStyleModel",
      "_view_count": null,
      "_view_module": "@jupyter-widgets/base",
      "_view_module_version": "1.2.0",
      "_view_name": "StyleView",
      "description_width": ""
     }
    },
    "e908845cf90a4f07a74b5ebdbcfb541e": {
     "model_module": "@jupyter-widgets/controls",
     "model_name": "FloatProgressModel",
     "state": {
      "_dom_classes": [],
      "_model_module": "@jupyter-widgets/controls",
      "_model_module_version": "1.5.0",
      "_model_name": "FloatProgressModel",
      "_view_count": null,
      "_view_module": "@jupyter-widgets/controls",
      "_view_module_version": "1.5.0",
      "_view_name": "ProgressView",
      "bar_style": "success",
      "description": "",
      "description_tooltip": null,
      "layout": "IPY_MODEL_f404c64766294bcabb07a4c257864057",
      "max": 170498071,
      "min": 0,
      "orientation": "horizontal",
      "style": "IPY_MODEL_0aeb04f9938842e8bca8ebdada4373c8",
      "value": 170498071
     }
    },
    "f404c64766294bcabb07a4c257864057": {
     "model_module": "@jupyter-widgets/base",
     "model_name": "LayoutModel",
     "state": {
      "_model_module": "@jupyter-widgets/base",
      "_model_module_version": "1.2.0",
      "_model_name": "LayoutModel",
      "_view_count": null,
      "_view_module": "@jupyter-widgets/base",
      "_view_module_version": "1.2.0",
      "_view_name": "LayoutView",
      "align_content": null,
      "align_items": null,
      "align_self": null,
      "border": null,
      "bottom": null,
      "display": null,
      "flex": null,
      "flex_flow": null,
      "grid_area": null,
      "grid_auto_columns": null,
      "grid_auto_flow": null,
      "grid_auto_rows": null,
      "grid_column": null,
      "grid_gap": null,
      "grid_row": null,
      "grid_template_areas": null,
      "grid_template_columns": null,
      "grid_template_rows": null,
      "height": null,
      "justify_content": null,
      "justify_items": null,
      "left": null,
      "margin": null,
      "max_height": null,
      "max_width": null,
      "min_height": null,
      "min_width": null,
      "object_fit": null,
      "object_position": null,
      "order": null,
      "overflow": null,
      "overflow_x": null,
      "overflow_y": null,
      "padding": null,
      "right": null,
      "top": null,
      "visibility": null,
      "width": null
     }
    }
   }
  }
 },
 "nbformat": 4,
 "nbformat_minor": 1
}
