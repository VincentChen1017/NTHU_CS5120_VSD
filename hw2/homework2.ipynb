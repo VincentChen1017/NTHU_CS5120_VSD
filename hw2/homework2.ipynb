{
 "cells": [
  {
   "cell_type": "markdown",
   "id": "04a61290",
   "metadata": {},
   "source": [
    "# HW2: Model Inference of the Pretrained LeNet"
   ]
  },
  {
   "cell_type": "markdown",
   "id": "2a9c9ccd",
   "metadata": {},
   "source": [
    "<font color='red'>Name: 陳力豪 Student ID: 107061272 </font>"
   ]
  },
  {
   "cell_type": "markdown",
   "id": "42c9bca9",
   "metadata": {},
   "source": [
    "## 1. High-level Function Implementation for Each Layer\n",
    "Implement a high-level functional model for each layer of the CNN, including convolution, pooling, and \n",
    "fully-connected layer with 8-bit quantization of the input activations, output activations, and weights accordingly.\n",
    "* Learn how to use [Numba](https://numba.pydata.org/) to accelerate python functions\n",
    "* Fill in the TODOs in `functional.py` of `nnutils`.\n",
    "    * You must consider `psum_range = (lower_bound, upper_bound)` which controls the precision of partial sums.\n",
    "    * `psum_record_list` will be used in *2. Bit-width of Partial Sums*, so you may leave it alone for now.\n",
    "    \n",
    "### 1.1 Pass all Unit Tests of OpTestCase in `nnunittest.py`.\n",
    "First, use 32-bit signed integers for the partial sums to pass the unit tests. The accumulation of activations is limited to 32 bits in convolution and fully-connected layers. Clamp the value if it exceeds the minimum or maximum values of the 32-bit signed number.\n",
    "\n",
    "Note that you should implement convolution layers, fully-connected layers, and max-pooling layers with \"nested loops\" by yourself. You are not allowed to use existing functions (e.g., `conv2d` in `numpy` or `pytorch`). Or you will not get any credits. Raise questions when in doubt.\n",
    "\n",
    "There are eight unit tests you need to pass. If you intend to run part of them, follow the steps:\n",
    "```\n",
    "tests = ['test_C1', 'test_C3']\n",
    "suite = unittest.TestSuite(map(nnunittest.OpTestCase, tests))\n",
    "```"
   ]
  },
  {
   "cell_type": "code",
   "execution_count": 1,
   "id": "87b1c981",
   "metadata": {
    "scrolled": true
   },
   "outputs": [
    {
     "name": "stderr",
     "output_type": "stream",
     "text": [
      "test_C1 (nnunittest.OpTestCase) ... ok\n",
      "test_C3 (nnunittest.OpTestCase) ... ok\n",
      "test_C5 (nnunittest.OpTestCase) ... ok\n",
      "test_F6 (nnunittest.OpTestCase) ... ok\n",
      "test_OUTPUT (nnunittest.OpTestCase) ... ok\n",
      "test_S2 (nnunittest.OpTestCase) ... ok\n",
      "test_S4 (nnunittest.OpTestCase) ... ok\n",
      "test_edges (nnunittest.OpTestCase) ... ok\n",
      "\n",
      "----------------------------------------------------------------------\n",
      "Ran 8 tests in 18.505s\n",
      "\n",
      "OK\n"
     ]
    },
    {
     "data": {
      "text/plain": [
       "<unittest.runner.TextTestResult run=8 errors=0 failures=0>"
      ]
     },
     "execution_count": 1,
     "metadata": {},
     "output_type": "execute_result"
    }
   ],
   "source": [
    "import unittest\n",
    "import nnunittest\n",
    "\n",
    "#tests = ['test_C1']\n",
    "#suite = unittest.TestSuite(map(nnunittest.OpTestCase, tests))\n",
    "suite = unittest.TestLoader().loadTestsFromTestCase(nnunittest.OpTestCase)\n",
    "unittest.TextTestRunner(verbosity=2).run(suite)"
   ]
  },
  {
   "cell_type": "markdown",
   "id": "7c623abf",
   "metadata": {},
   "source": [
    "### 1.2 Reconstruct the LeNet in HW1\n",
    "* Fill in the TODO in `forward()` of `LeNet`.\n",
    "* Test the model with the test dataset. There should be no accuracy degradation if you have done everything correctly."
   ]
  },
  {
   "cell_type": "code",
   "execution_count": 2,
   "id": "2639da05",
   "metadata": {},
   "outputs": [
    {
     "name": "stdout",
     "output_type": "stream",
     "text": [
      "bit: 32\n",
      "bit-width range: (-2147483648, 2147483647)\n",
      "Accuracy: 98.82%\n"
     ]
    },
    {
     "data": {
      "text/plain": [
       "98.82"
      ]
     },
     "execution_count": 2,
     "metadata": {},
     "output_type": "execute_result"
    }
   ],
   "source": [
    "from nnutils import LeNet\n",
    "import nnutils.test as test\n",
    "import torch\n",
    "import torchvision\n",
    "import torchvision.transforms as transforms\n",
    "\n",
    "transform = transforms.Compose(\n",
    "    [\n",
    "     transforms.Resize((32, 32)),\n",
    "     transforms.ToTensor(),\n",
    "     transforms.Normalize((0.5,), (0.5,))\n",
    "    ])\n",
    "\n",
    "testset = torchvision.datasets.MNIST(root='./data', train=False,\n",
    "                                       download=True, transform=transform)\n",
    "testloader = torch.utils.data.DataLoader(testset, batch_size=4,\n",
    "                                         shuffle=False, num_workers=2)\n",
    "\n",
    "def run_LeNet(n_bit, max_samples = None):\n",
    "    number_range = (-(2**(n_bit-1)), 2**(n_bit-1) - 1)\n",
    "    print(\"bit:\", n_bit)\n",
    "    print(\"bit-width range:\",number_range)\n",
    "\n",
    "    psum_range = {\n",
    "        'c1': number_range,\n",
    "        'c3': number_range,\n",
    "        'c5': number_range,\n",
    "        'f6': number_range,\n",
    "        'output': number_range\n",
    "    }\n",
    "\n",
    "    model = LeNet(psum_range)\n",
    "\n",
    "    return test(model, testloader)\n",
    "\n",
    "run_LeNet(n_bit = 32)"
   ]
  },
  {
   "cell_type": "markdown",
   "id": "8d44e4d9",
   "metadata": {},
   "source": [
    "## 2. Bit-width of Partial Sums\n",
    "### 2.1 Question: Find the minimum bit-width of partial sums for all layers with the highest accuracy\n",
    "1. Use matplotlib to plot \"Test Accuracy(%)\" versus \"Bit-width of Partial Sums\" for \"Bit-width of Partial Sums\" in $[2, 32]$ by `matplotlib.pyplot.plot()`.\n",
    "    * [Plot with matplotlib](https://matplotlib.org/stable/api/_as_gen/matplotlib.pyplot.plot.html).\n",
    "2. What is the smallest bit-width of partial sums that maintains the same accuracy from the previous plot?"
   ]
  },
  {
   "cell_type": "markdown",
   "id": "90fd587c",
   "metadata": {},
   "source": [
    "### 2.1 Answers\n",
    "<font color='red'>Write your answers here.</font>\n",
    "1. The \"Test Accuracy(%)\" versus \"Bit-width of Partial Sums\" graph as following. </br>\n",
    "</br>\n",
    "2. The smallest bit-width to maintain the same accuracy as the previous result is 「18」"
   ]
  },
  {
   "cell_type": "code",
   "execution_count": 3,
   "id": "3c93f393",
   "metadata": {},
   "outputs": [
    {
     "name": "stdout",
     "output_type": "stream",
     "text": [
      "bit: 2\n",
      "bit-width range: (-2, 1)\n",
      "Accuracy: 11.35%\n",
      "bit: 4\n",
      "bit-width range: (-8, 7)\n",
      "Accuracy: 11.35%\n",
      "bit: 6\n",
      "bit-width range: (-32, 31)\n",
      "Accuracy: 11.35%\n",
      "bit: 8\n",
      "bit-width range: (-128, 127)\n",
      "Accuracy: 11.35%\n",
      "bit: 10\n",
      "bit-width range: (-512, 511)\n",
      "Accuracy: 11.35%\n",
      "bit: 12\n",
      "bit-width range: (-2048, 2047)\n",
      "Accuracy: 11.35%\n",
      "bit: 14\n",
      "bit-width range: (-8192, 8191)\n",
      "Accuracy: 43.33%\n",
      "bit: 16\n",
      "bit-width range: (-32768, 32767)\n",
      "Accuracy: 97.88%\n",
      "bit: 18\n",
      "bit-width range: (-131072, 131071)\n",
      "Accuracy: 98.82%\n",
      "bit: 20\n",
      "bit-width range: (-524288, 524287)\n",
      "Accuracy: 98.82%\n",
      "bit: 22\n",
      "bit-width range: (-2097152, 2097151)\n",
      "Accuracy: 98.82%\n",
      "bit: 24\n",
      "bit-width range: (-8388608, 8388607)\n",
      "Accuracy: 98.82%\n",
      "bit: 26\n",
      "bit-width range: (-33554432, 33554431)\n",
      "Accuracy: 98.82%\n",
      "bit: 28\n",
      "bit-width range: (-134217728, 134217727)\n",
      "Accuracy: 98.82%\n",
      "bit: 30\n",
      "bit-width range: (-536870912, 536870911)\n",
      "Accuracy: 98.82%\n",
      "bit: 32\n",
      "bit-width range: (-2147483648, 2147483647)\n",
      "Accuracy: 98.82%\n"
     ]
    },
    {
     "data": {
      "image/png": "[encoded data removed]",
      "text/plain": [
       "<Figure size 432x288 with 1 Axes>"
      ]
     },
     "metadata": {
      "needs_background": "light"
     },
     "output_type": "display_data"
    }
   ],
   "source": [
    "import matplotlib.pyplot as plt\n",
    "acc = []\n",
    "for i in range(1, 17):\n",
    "    acc.append(run_LeNet(i*2))\n",
    "\n",
    "# TODO \n",
    "Bit_w = []\n",
    "for i in range(1,17):\n",
    "    Bit_w.append(i*2)\n",
    "    \n",
    "\n",
    "plt.plot(Bit_w, acc, 'bo')\n",
    "plt.xlabel('Partial_Sum Bit Width')\n",
    "plt.ylabel('Accuracy')\n",
    "plt.title('Test Accuracy(%) versus Bit-width of Partial Sums')\n",
    "plt.show()"
   ]
  },
  {
   "cell_type": "markdown",
   "id": "6127ac58",
   "metadata": {},
   "source": [
    "### 2.2 Question: Find the minimum bit-width of partial sums for each layer with the highest accuracy\n",
    "1. Plot the distribution of partial sums of each quantized layer in the CNN with the MNIST test dataset. Write down the min, max, and standard deviation for each layer. \n",
    "    * Check the TODO in `LeNet` of `LeNetModel`. You should save all partial sums to the dictionary, `psum_record_dict`.\n",
    "    * We can get this dictionary after running the model with the first image in the test dataset by `model.psum_record_dict`.\n",
    "2. Determine the minimum bit-width of partial sums in each layer without hurting the accuracy. \n",
    "    * Fill in the TODO to see if the accuracy is still the same.\n",
    "    * Show the accuracy after doing so."
   ]
  },
  {
   "cell_type": "markdown",
   "id": "4892fb04",
   "metadata": {},
   "source": [
    "### 2.2 Answers\n",
    "<font color='red'>Write your answers here.</font>\n",
    "1.  </br>\n",
    "c1_psum: [min, max] = [-82748, 77317] </br>\n",
    "c1_psum_std: 19087.927796427335</br>\n",
    "</br>\n",
    "c3_psum: [min, max] = [-59001, 25314] </br>\n",
    "c3_psum_std: 9285.67338034872</br>\n",
    "</br>\n",
    "c5_psum: [min, max] = [-64026, 44412] </br>\n",
    "c5_psum_std: 17985.371220398036</br>\n",
    "</br>\n",
    "f6_psum: [min, max] = [-51320, 34615] </br>\n",
    "f6_psum_std: 12958.600253292167</br>\n",
    "</br>\n",
    "output_psum: [min, max] = [-57210, 13984] </br>\n",
    "output_psum_std: 11177.661154953674</br>\n",
    "</br>\n",
    "\n",
    "2. The minimum bit-width to maintain the same accuracy:</br>\n",
    "C1_bit_width = 18 bits</br>\n",
    "C3_bit_width = 16 bits</br>\n",
    "C5_bit_width = 17 bits</br>\n",
    "F6_bit_width = 16 bits</br>\n",
    "Output_bit_width = 15 bits</br>"
   ]
  },
  {
   "cell_type": "code",
   "execution_count": 4,
   "id": "80d07474",
   "metadata": {},
   "outputs": [
    {
     "name": "stdout",
     "output_type": "stream",
     "text": [
      "bit: 32\n",
      "bit-width range: (-2147483648, 2147483647)\n"
     ]
    },
    {
     "data": {
      "image/png": "[encoded data removed]",
      "text/plain": [
       "<Figure size 432x288 with 1 Axes>"
      ]
     },
     "metadata": {
      "needs_background": "light"
     },
     "output_type": "display_data"
    },
    {
     "name": "stdout",
     "output_type": "stream",
     "text": [
      "c1_psum: [min, max] = [-82748, 77317] \n",
      "c1_psum_std: 19087.927796427335\n"
     ]
    },
    {
     "data": {
      "image/png": "[encoded data removed]",
      "text/plain": [
       "<Figure size 432x288 with 1 Axes>"
      ]
     },
     "metadata": {
      "needs_background": "light"
     },
     "output_type": "display_data"
    },
    {
     "name": "stdout",
     "output_type": "stream",
     "text": [
      "c3_psum: [min, max] = [-59001, 25314] \n",
      "c3_psum_std: 9285.67338034872\n"
     ]
    },
    {
     "data": {
      "image/png": "[encoded data removed]",
      "text/plain": [
       "<Figure size 432x288 with 1 Axes>"
      ]
     },
     "metadata": {
      "needs_background": "light"
     },
     "output_type": "display_data"
    },
    {
     "name": "stdout",
     "output_type": "stream",
     "text": [
      "c5_psum: [min, max] = [-64026, 44412] \n",
      "c5_psum_std: 17985.371220398036\n"
     ]
    },
    {
     "data": {
      "image/png": "[encoded data removed]",
      "text/plain": [
       "<Figure size 432x288 with 1 Axes>"
      ]
     },
     "metadata": {
      "needs_background": "light"
     },
     "output_type": "display_data"
    },
    {
     "name": "stdout",
     "output_type": "stream",
     "text": [
      "f6_psum: [min, max] = [-51320, 34615] \n",
      "f6_psum_std: 12958.600253292167\n"
     ]
    },
    {
     "data": {
      "image/png": "[encoded data removed]",
      "text/plain": [
       "<Figure size 432x288 with 1 Axes>"
      ]
     },
     "metadata": {
      "needs_background": "light"
     },
     "output_type": "display_data"
    },
    {
     "name": "stdout",
     "output_type": "stream",
     "text": [
      "output_psum: [min, max] = [-57210, 13984] \n",
      "output_psum_std: 11177.661154953674\n"
     ]
    }
   ],
   "source": [
    "import numpy as np\n",
    "import matplotlib.pyplot as plt\n",
    "n_bit = 32\n",
    "number_range = (-(2**(n_bit-1)), 2**(n_bit-1) - 1)\n",
    "print(\"bit:\", n_bit)\n",
    "print(\"bit-width range:\",number_range)\n",
    "\n",
    "psum_range = {\n",
    "    'c1': number_range,\n",
    "    'c3': number_range,\n",
    "    'c5': number_range,\n",
    "    'f6': number_range,\n",
    "    'output': number_range\n",
    "}\n",
    "\n",
    "model = LeNet(psum_range)\n",
    "\n",
    "image = np.expand_dims(testset[0][0], axis=0)\n",
    "_ = model.forward(image, psum_record = True)\n",
    "\n",
    "# TODO\n",
    "# Plot the distribution of partial sums of each quantized layer in the CNN\n",
    "c1_psum_record = model.psum_record_dict['c1']\n",
    "c3_psum_record = model.psum_record_dict['c3']\n",
    "c5_psum_record = model.psum_record_dict['c5']\n",
    "f6_psum_record = model.psum_record_dict['f6']\n",
    "output_psum_record = model.psum_record_dict['output']\n",
    "\n",
    "c1_psum_max = np.max(c1_psum_record)\n",
    "c1_psum_min = np.min(c1_psum_record)\n",
    "c1_psum_std = np.std(c1_psum_record)\n",
    "c3_psum_max = np.max(c3_psum_record)\n",
    "c3_psum_min = np.min(c3_psum_record)\n",
    "c3_psum_std = np.std(c3_psum_record)\n",
    "c5_psum_max = np.max(c5_psum_record)\n",
    "c5_psum_min = np.min(c5_psum_record)\n",
    "c5_psum_std = np.std(c5_psum_record)\n",
    "f6_psum_max = np.max(f6_psum_record)\n",
    "f6_psum_min = np.min(f6_psum_record)\n",
    "f6_psum_std = np.std(f6_psum_record)\n",
    "output_psum_max = np.max(output_psum_record)\n",
    "output_psum_min = np.min(output_psum_record)\n",
    "output_psum_std = np.std(output_psum_record)\n",
    "\n",
    "# C1\n",
    "hist_c1_psum, bins_c1_psum = np.histogram(c1_psum_record , bins=100)\n",
    "plt.hist(bins_c1_psum[:-1], bins_c1_psum, weights=hist_c1_psum)\n",
    "plt.xlabel(\"psum\")\n",
    "plt.ylabel(\"numbers of certain psum\")\n",
    "plt.title(\"c1_psum distribution with bins = 100\") \n",
    "plt.show()\n",
    "print(\"c1_psum: [min, max] = [{}, {}] \".format(c1_psum_min, c1_psum_max))\n",
    "print(\"c1_psum_std: {}\".format(c1_psum_std))\n",
    "\n",
    "# C3\n",
    "hist_c3_psum, bins_c3_psum = np.histogram(c3_psum_record , bins=100)\n",
    "plt.hist(bins_c3_psum[:-1], bins_c3_psum, weights=hist_c3_psum)\n",
    "plt.xlabel(\"psum\")\n",
    "plt.ylabel(\"numbers of certain psum\")\n",
    "plt.title(\"c3_psum distribution with bins = 100\") \n",
    "plt.show()\n",
    "print(\"c3_psum: [min, max] = [{}, {}] \".format(c3_psum_min, c3_psum_max))\n",
    "print(\"c3_psum_std: {}\".format(c3_psum_std))\n",
    "\n",
    "# C5\n",
    "hist_c5_psum, bins_c5_psum = np.histogram(c5_psum_record , bins=100)\n",
    "plt.hist(bins_c5_psum[:-1], bins_c5_psum, weights=hist_c5_psum)\n",
    "plt.xlabel(\"psum\")\n",
    "plt.ylabel(\"numbers of certain psum\")\n",
    "plt.title(\"c5_psum distribution with bins = 100\") \n",
    "plt.show()\n",
    "print(\"c5_psum: [min, max] = [{}, {}] \".format(c5_psum_min, c5_psum_max))\n",
    "print(\"c5_psum_std: {}\".format(c5_psum_std))\n",
    "\n",
    "# F6\n",
    "hist_f6_psum, bins_f6_psum = np.histogram(f6_psum_record , bins=100)\n",
    "plt.hist(bins_f6_psum[:-1], bins_f6_psum, weights=hist_f6_psum)\n",
    "plt.xlabel(\"psum\")\n",
    "plt.ylabel(\"numbers of certain psum\")\n",
    "plt.title(\"f6_psum distribution with bins = 100\") \n",
    "plt.show()\n",
    "print(\"f6_psum: [min, max] = [{}, {}] \".format(f6_psum_min, f6_psum_max))\n",
    "print(\"f6_psum_std: {}\".format(f6_psum_std))\n",
    "\n",
    "# Output\n",
    "hist_output_psum, bins_output_psum = np.histogram(output_psum_record , bins=100)\n",
    "plt.hist(bins_output_psum[:-1], bins_output_psum, weights=hist_output_psum)\n",
    "plt.xlabel(\"psum\")\n",
    "plt.ylabel(\"numbers of certain psum\")\n",
    "plt.title(\"output_psum distribution with bins = 100\") \n",
    "plt.show()\n",
    "print(\"output_psum: [min, max] = [{}, {}] \".format(output_psum_min, output_psum_max))\n",
    "print(\"output_psum_std: {}\".format(output_psum_std))\n"
   ]
  },
  {
   "cell_type": "code",
   "execution_count": 5,
   "id": "d1d17e5f",
   "metadata": {
    "scrolled": false
   },
   "outputs": [
    {
     "name": "stdout",
     "output_type": "stream",
     "text": [
      "c1_bit: 18\n",
      "c1_bit width range: (-131072, 131071)\n",
      "c3_bit: 16, \n",
      "c3_bit width range: (-32768, 32767)\n",
      "c5_bit: 17, \n",
      "c5_bit width range: (-65536, 65535)\n",
      "f6_bit: 15, \n",
      "f6_bit width range: (-16384, 16383)\n",
      "output_bit: 15, \n",
      "output_bit width range: (-16384, 16383)\n",
      "Accuracy: 98.79%\n",
      "-------------------------------------------------------\n",
      "c1_bit: 18\n",
      "c1_bit width range: (-131072, 131071)\n",
      "c3_bit: 16, \n",
      "c3_bit width range: (-32768, 32767)\n",
      "c5_bit: 17, \n",
      "c5_bit width range: (-65536, 65535)\n",
      "f6_bit: 15, \n",
      "f6_bit width range: (-16384, 16383)\n",
      "output_bit: 16, \n",
      "output_bit width range: (-32768, 32767)\n",
      "Accuracy: 98.79%\n",
      "-------------------------------------------------------\n",
      "c1_bit: 18\n",
      "c1_bit width range: (-131072, 131071)\n",
      "c3_bit: 16, \n",
      "c3_bit width range: (-32768, 32767)\n",
      "c5_bit: 17, \n",
      "c5_bit width range: (-65536, 65535)\n",
      "f6_bit: 16, \n",
      "f6_bit width range: (-32768, 32767)\n",
      "output_bit: 15, \n",
      "output_bit width range: (-16384, 16383)\n",
      "Accuracy: 98.82%\n",
      "-------------------------------------------------------\n",
      "c1_bit: 18\n",
      "c1_bit width range: (-131072, 131071)\n",
      "c3_bit: 16, \n",
      "c3_bit width range: (-32768, 32767)\n",
      "c5_bit: 17, \n",
      "c5_bit width range: (-65536, 65535)\n",
      "f6_bit: 16, \n",
      "f6_bit width range: (-32768, 32767)\n",
      "output_bit: 16, \n",
      "output_bit width range: (-32768, 32767)\n",
      "Accuracy: 98.82%\n",
      "-------------------------------------------------------\n"
     ]
    }
   ],
   "source": [
    "# TODO\n",
    "# Test your model with those Bit-widths you choose \n",
    "\n",
    "for c1 in [18]:\n",
    "    for c3 in [16]:\n",
    "        for c5 in [17]:\n",
    "            for f6 in [15,16]:\n",
    "                for output in [15,16]:\n",
    "                    print(\"c1_bit: {}\".format(c1))\n",
    "                    print(\"c1_bit width range: ({}, {})\".format(-(2**(c1-1)), 2**(c1-1) - 1))\n",
    "                    print(\"c3_bit: {}, \".format(c3))\n",
    "                    print(\"c3_bit width range: ({}, {})\".format(-(2**(c3-1)), 2**(c3-1) - 1))\n",
    "                    print(\"c5_bit: {}, \".format(c5))\n",
    "                    print(\"c5_bit width range: ({}, {})\".format(-(2**(c5-1)), 2**(c5-1) - 1))\n",
    "                    print(\"f6_bit: {}, \".format(f6))\n",
    "                    print(\"f6_bit width range: ({}, {})\".format(-(2**(f6-1)), 2**(f6-1) - 1))\n",
    "                    print(\"output_bit: {}, \".format(output))\n",
    "                    print(\"output_bit width range: ({}, {})\".format(-(2**(output-1)), 2**(output-1) - 1))\n",
    "                    psum_range = {\n",
    "                        'c1': (-(2**(c1-1)), 2**(c1-1) - 1),\n",
    "                        'c3': (-(2**(c3-1)), 2**(c3-1) - 1),\n",
    "                        'c5': (-(2**(c5-1)), 2**(c5-1) - 1),\n",
    "                        'f6': (-(2**(f6-1)), 2**(f6-1) - 1),\n",
    "                        'output': (-(2**(output-1)), 2**(output-1) - 1)\n",
    "                    }\n",
    "                    model = LeNet(psum_range)\n",
    "\n",
    "                    _ = test(model, testloader)\n",
    "                    print(\"-------------------------------------------------------\")"
   ]
  },
  {
   "cell_type": "markdown",
   "id": "f718967b",
   "metadata": {},
   "source": [
    "## 3. Evaluation: Energy Model\n",
    "### 3.1 Question: Evaluate these two approaches based on the following energy model:\n",
    "$$E_w = s_{mul}\\times N_{mul} + s_{add}\\times N_{add}$$\n",
    "$$s_{mul} = 64\\times \\left(\\frac{B_{mul}}{8}\\right)^2, s_{add} = B_{add}$$\n",
    "where $N_{mul}$ and $N_{add}$ are the number of multiplications and additions, respectively. $B_{mul}$ and $B_{add}$ are the bit-widths of multiplier and adder, respectively. $s_{mul}$ denotes the power scaling factor of multiplication; $s_{add}$ denotes the power scaling factor of addition.\n",
    "* You must accumulate the energy layer by layer to obtain the overall $E_w$, if each layer has a  different $B_{mul}$ or $B_{add}$.\n",
    "* We only consider convolution and fully-connected operations, ignoring pooling and ReLU operations in this energy model.\n",
    "* Disclaimer: Note that this energy model is artificial and oversimplified. DO NOT apply it to your research work.\n",
    "\n",
    "1. Calculate the overall $E_w$ for the setup of 2.1.\n",
    "2. Calculate the energy layer by layer and also the overall $E_w$ for the setup of 2.2."
   ]
  },
  {
   "cell_type": "markdown",
   "id": "5168ea53",
   "metadata": {},
   "source": [
    "# 3.1 Answers\n",
    "<font color='red'>Write your answers here.</font>\n",
    "1. </br>\n",
    "$B_{mul} = 8 $</br>\n",
    "$B_{add} = 18$</br>\n",
    "$s_{mul} = 64\\times \\left(\\frac{8}{8}\\right)^2 = 64$</br>\n",
    "$s_{add} = 18$</br>\n",
    "$L_{N_{mul}}$ = $H\\times C\\times W$ </br>\n",
    "$L_{N_{add}}$ = $H\\times C\\times W + H\\times C$</br>\n",
    "$C_{N_{mul}}$ = $N\\times M\\times((H-$kernel_size$)/stride)+1)\\times(W-$kernel_size$)/stride)\\times R\\times S\\times C_{x}$</br>\n",
    "$C_{N_{add}}$ = $N\\times M\\times((H-$kernel_size$)/stride)+1)\\times(W-$kernel_size$)/stride)\\times R\\times S\\times C_{x}$</br>\n",
    "$Kernel Size = 5$</br> \n",
    "$Stride = 1$</br>\n",
    "</br>\n",
    "$E_{c1}$ = $s_{mul}\\times C_{N_{mul}}$ + $s_{add} \\times C_{N_{add}}  = 38572800$</br>\n",
    "$E_{c3}$ = $s_{mul}\\times C_{N_{mul}}$ + $s_{add} \\times C_{N_{add}}  = 78720000$</br>\n",
    "$E_{c5}$ = $s_{mul}\\times C_{N_{mul}}$ + $s_{add} \\times C_{N_{add}}  = 15744000$</br>\n",
    "$E_{f6}$ = $s_{mul}\\times L_{N_{mul}}$ + $s_{add} \\times L_{N_{add}}  = 3312288$</br>\n",
    "$E_{out}$ = $s_{mul}\\times L_{N_{mul}}$ + $s_{add} \\times L_{N_{add}} = 276240$</br>\n",
    "$E_w$ = $E_{c1}$ + $E_{c3}$ + $E_{c5}$ + $E_{f6}$ + $E_{out} = 136,625,328$</br>\n",
    "\n",
    "\n",
    "\n",
    "2. </br>\n",
    "</br>\n",
    "$E_{c1}$ = $s_{mul}\\times C_{N_{mul}}$ + $s_{add} \\times C_{N_{add}}  = 38572800$ \n",
    "where $s_{mul} = 64\\times \\left(\\frac{8}{8}\\right)^2 = 64$ , $s_{add} = 18$</br>\n",
    "</br>\n",
    "$E_{c3}$ = $s_{mul}\\times C_{N_{mul}}$ + $s_{add} \\times C_{N_{add}}  = 76800000$ \n",
    "where $s_{mul} = 64\\times \\left(\\frac{8}{8}\\right)^2 = 64$ , $s_{add} = 16$</br>\n",
    "</br>\n",
    "$E_{c5}$ = $s_{mul}\\times C_{N_{mul}}$ + $s_{add} \\times C_{N_{add}}  = 15552000$\n",
    "where $s_{mul} = 64\\times \\left(\\frac{8}{8}\\right)^2 = 64$ , $s_{add} = 17$</br>\n",
    "</br>\n",
    "$E_{f6}$ = $s_{mul}\\times L_{N_{mul}}$ + $s_{add} \\times L_{N_{add}}  = 3230976$\n",
    "where $s_{mul} = 64\\times \\left(\\frac{8}{8}\\right)^2 = 64$ , $s_{add} = 16$</br>\n",
    "</br>\n",
    "$E_{out}$ = $s_{mul}\\times L_{N_{mul}}$ + $s_{add} \\times L_{N_{add}} = 266040$\n",
    "where $s_{mul} = 64\\times \\left(\\frac{8}{8}\\right)^2 = 64$ , $s_{add} = 15$</br>\n",
    "</br>\n",
    "$E_w$ = $E_{c1}$ + $E_{c3}$ + $E_{c5}$ + $E_{f6}$ + $E_{out} = 134,421,816$"
   ]
  }
 ],
 "metadata": {
  "kernelspec": {
   "display_name": "Python 3",
   "language": "python",
   "name": "python3"
  },
  "language_info": {
   "codemirror_mode": {
    "name": "ipython",
    "version": 3
   },
   "file_extension": ".py",
   "mimetype": "text/x-python",
   "name": "python",
   "nbconvert_exporter": "python",
   "pygments_lexer": "ipython3",
   "version": "3.7.6"
  }
 },
 "nbformat": 4,
 "nbformat_minor": 5
}
